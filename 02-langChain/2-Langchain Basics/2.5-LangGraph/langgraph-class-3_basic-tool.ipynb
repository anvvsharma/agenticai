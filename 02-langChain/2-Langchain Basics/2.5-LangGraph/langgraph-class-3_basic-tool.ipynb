{
 "cells": [
  {
   "cell_type": "markdown",
   "id": "04f53de6",
   "metadata": {},
   "source": [
    "##### Questoin > Supervisor > LLM Or RAG "
   ]
  },
  {
   "cell_type": "code",
   "execution_count": 2,
   "id": "b3fc29b5",
   "metadata": {},
   "outputs": [
    {
     "name": "stdout",
     "output_type": "stream",
     "text": [
      "zsh:1: no matches found: langchain[chromadb]\n",
      "Note: you may need to restart the kernel to use updated packages.\n"
     ]
    }
   ],
   "source": [
    "pip install langchain_groq sentence_transformers faiss-cpu pydantic python-dotenv pypdf bs4 langchain langchain_core langchain-community langchain_huggingface langchain_google_genai langchain-pinecone langgraph langchain-openai langchain_groq langchain_google_genai google-generativeai  pymupdf wikipedia arxiv defusedxml  youtube_search langchain-tavily langgraph chromadb langchain[chromadb]\n"
   ]
  },
  {
   "cell_type": "code",
   "execution_count": 3,
   "id": "a86f3293",
   "metadata": {},
   "outputs": [
    {
     "data": {
      "text/plain": [
       "True"
      ]
     },
     "execution_count": 3,
     "metadata": {},
     "output_type": "execute_result"
    }
   ],
   "source": [
    "#### import\n",
    "import os\n",
    "from dotenv import load_dotenv\n",
    "from langgraph.graph import Graph\n",
    "from IPython.display import Image, display\n",
    "load_dotenv()\n"
   ]
  },
  {
   "cell_type": "code",
   "execution_count": 4,
   "id": "eaf2246c",
   "metadata": {},
   "outputs": [
    {
     "name": "stdout",
     "output_type": "stream",
     "text": [
      "<think>\n",
      "\n",
      "</think>\n",
      "\n",
      "Great day to you too! How can I assist you today?\n"
     ]
    }
   ],
   "source": [
    "#from langchain_google_genai import ChatGoogleGenerativeAI\n",
    "#model=ChatGoogleGenerativeAI(model='models/gemini-1.5-flash')\n",
    "from langchain_groq import ChatGroq\n",
    "model= ChatGroq(model=\"deepseek-r1-distill-llama-70b\")\n",
    "output=model.invoke('Great Day !! ')\n",
    "print(output.content)"
   ]
  },
  {
   "cell_type": "markdown",
   "id": "4765e377",
   "metadata": {},
   "source": [
    "#### Configure the embdeeing Model"
   ]
  },
  {
   "cell_type": "code",
   "execution_count": 5,
   "id": "906f031a",
   "metadata": {},
   "outputs": [
    {
     "name": "stderr",
     "output_type": "stream",
     "text": [
      "/Users/anvvsharma/anvv/ws/agenticai/vagenticai/lib/python3.13/site-packages/tqdm/auto.py:21: TqdmWarning: IProgress not found. Please update jupyter and ipywidgets. See https://ipywidgets.readthedocs.io/en/stable/user_install.html\n",
      "  from .autonotebook import tqdm as notebook_tqdm\n"
     ]
    },
    {
     "data": {
      "text/plain": [
       "384"
      ]
     },
     "execution_count": 5,
     "metadata": {},
     "output_type": "execute_result"
    }
   ],
   "source": [
    "from langchain_huggingface import HuggingFaceEmbeddings\n",
    "embeddings = HuggingFaceEmbeddings(model_name=\"BAAI/bge-small-en\")\n",
    "len(embeddings.embed_query(\"Hi\"))"
   ]
  },
  {
   "cell_type": "markdown",
   "id": "1f910f66",
   "metadata": {},
   "source": [
    "##### Lets take a Data embedd it and store in Vector Database"
   ]
  },
  {
   "cell_type": "code",
   "execution_count": 6,
   "id": "ba061b75",
   "metadata": {},
   "outputs": [],
   "source": [
    "##### Imports\n",
    "from langchain_community.document_loaders import TextLoader, DirectoryLoader\n",
    "from langchain_community.vectorstores import Chroma\n",
    "from langchain.text_splitter import RecursiveCharacterTextSplitter\n",
    "import operator\n",
    "from langchain_core.tools import tool\n",
    "from typing import List\n",
    "from pydantic import BaseModel , Field\n",
    "from langchain.prompts import PromptTemplate\n",
    "from typing import TypedDict, Annotated, Sequence\n",
    "from langchain_core.messages import BaseMessage\n",
    "from langchain_core.output_parsers import StrOutputParser\n",
    "from langchain_core.prompts import ChatPromptTemplate, PromptTemplate\n",
    "from langchain_core.runnables import RunnablePassthrough\n",
    "from langchain_core.messages import HumanMessage, AIMessage\n",
    "from langgraph.graph import StateGraph,END,MessagesState,START\n",
    "from langgraph.prebuilt import ToolNode\n"
   ]
  },
  {
   "cell_type": "code",
   "execution_count": 18,
   "id": "2bb5dbf3",
   "metadata": {},
   "outputs": [],
   "source": [
    "def call_model(state: MessagesState):\n",
    "    message = state['messages'][-1]\n",
    "    if isinstance(message, HumanMessage):\n",
    "        question_text = message.content\n",
    "    else:\n",
    "        question_text = str(message)\n",
    "    question = HumanMessage(content=question_text)\n",
    "    print(f\"This is your question message: {question}\")\n",
    "    response = model.invoke([question])\n",
    "    \n",
    "    return {\"messages\": [response.content]}"
   ]
  },
  {
   "cell_type": "code",
   "execution_count": 12,
   "id": "70b8dd64",
   "metadata": {},
   "outputs": [
    {
     "name": "stdout",
     "output_type": "stream",
     "text": [
      "this is your question message: content='how are you doing today !! ' additional_kwargs={} response_metadata={}\n"
     ]
    },
    {
     "data": {
      "text/plain": [
       "{'messages': ['<think>\\nOkay, the user asked, \"how are you doing today !! \" with some exclamation points. They seem energetic and friendly.\\n\\nI should respond in a positive way to match their tone. Maybe start with a greeting.\\n\\nI can mention that I\\'m just a computer program, so I don\\'t have feelings, but I\\'m here and ready to help.\\n\\nI should ask them how they\\'re doing as well to keep the conversation going.\\n\\nMaybe add an emoji to keep it friendly and approachable.\\n</think>\\n\\nHello! I\\'m just a computer program, so I don\\'t have feelings, but I\\'m here and ready to help you with whatever you need. How are *you* doing today? 😊']}"
      ]
     },
     "execution_count": 12,
     "metadata": {},
     "output_type": "execute_result"
    }
   ],
   "source": [
    "state = {\"messages\": [\"how are you doing today !! \"]}\n",
    "call_model(state)"
   ]
  },
  {
   "cell_type": "code",
   "execution_count": 13,
   "id": "19b52980",
   "metadata": {},
   "outputs": [],
   "source": [
    "workflow=StateGraph(MessagesState)\n"
   ]
  },
  {
   "cell_type": "code",
   "execution_count": 16,
   "id": "e0cebed1",
   "metadata": {},
   "outputs": [],
   "source": [
    "mybot = \"My Simple Bot\"\n",
    "workflow=StateGraph(MessagesState)\n",
    "workflow.add_node(mybot,call_model)\n",
    "workflow.add_edge(START, mybot)\n",
    "workflow.add_edge(mybot, END)\n",
    "app = workflow.compile()"
   ]
  },
  {
   "cell_type": "code",
   "execution_count": 17,
   "id": "2777aa5d",
   "metadata": {},
   "outputs": [
    {
     "data": {
      "image/png": "[encoded data removed]",
      "text/plain": [
       "<IPython.core.display.Image object>"
      ]
     },
     "metadata": {},
     "output_type": "display_data"
    }
   ],
   "source": [
    "from IPython.display import Image, display\n",
    "display(Image(app.get_graph().draw_mermaid_png()))"
   ]
  }
 ],
 "metadata": {
  "kernelspec": {
   "display_name": "vagenticai",
   "language": "python",
   "name": "python3"
  },
  "language_info": {
   "codemirror_mode": {
    "name": "ipython",
    "version": 3
   },
   "file_extension": ".py",
   "mimetype": "text/x-python",
   "name": "python",
   "nbconvert_exporter": "python",
   "pygments_lexer": "ipython3",
   "version": "3.13.2"
  }
 },
 "nbformat": 4,
 "nbformat_minor": 5
}
