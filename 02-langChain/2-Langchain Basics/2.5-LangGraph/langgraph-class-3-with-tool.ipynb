{
 "cells": [
  {
   "cell_type": "markdown",
   "id": "04f53de6",
   "metadata": {},
   "source": [
    "##### Questoin > Supervisor > LLM Or RAG "
   ]
  },
  {
   "cell_type": "code",
   "execution_count": 1,
   "id": "b3fc29b5",
   "metadata": {},
   "outputs": [
    {
     "name": "stdout",
     "output_type": "stream",
     "text": [
      "zsh:1: no matches found: langchain[chromadb]\n",
      "Note: you may need to restart the kernel to use updated packages.\n"
     ]
    }
   ],
   "source": [
    "pip install langchain_groq sentence_transformers faiss-cpu pydantic python-dotenv pypdf bs4 langchain langchain_core langchain-community langchain_huggingface langchain_google_genai langchain-pinecone langgraph langchain-openai langchain_groq langchain_google_genai google-generativeai  pymupdf wikipedia arxiv defusedxml  youtube_search langchain-tavily langgraph chromadb langchain[chromadb]\n"
   ]
  },
  {
   "cell_type": "code",
   "execution_count": 2,
   "id": "a86f3293",
   "metadata": {},
   "outputs": [
    {
     "data": {
      "text/plain": [
       "True"
      ]
     },
     "execution_count": 2,
     "metadata": {},
     "output_type": "execute_result"
    }
   ],
   "source": [
    "#### import\n",
    "import os\n",
    "from dotenv import load_dotenv\n",
    "from langgraph.graph import Graph\n",
    "from IPython.display import Image, display\n",
    "load_dotenv()\n"
   ]
  },
  {
   "cell_type": "code",
   "execution_count": 3,
   "id": "eaf2246c",
   "metadata": {},
   "outputs": [
    {
     "name": "stdout",
     "output_type": "stream",
     "text": [
      "<think>\n",
      "\n",
      "</think>\n",
      "\n",
      "Great day to you as well! How can I assist you today?\n"
     ]
    }
   ],
   "source": [
    "#from langchain_google_genai import ChatGoogleGenerativeAI\n",
    "#model=ChatGoogleGenerativeAI(model='models/gemini-1.5-flash')\n",
    "from langchain_groq import ChatGroq\n",
    "model= ChatGroq(model=\"deepseek-r1-distill-llama-70b\")\n",
    "output=model.invoke('Great Day !! ')\n",
    "print(output.content)"
   ]
  },
  {
   "cell_type": "markdown",
   "id": "4765e377",
   "metadata": {},
   "source": [
    "#### Configure the embdeeing Model"
   ]
  },
  {
   "cell_type": "code",
   "execution_count": 5,
   "id": "906f031a",
   "metadata": {},
   "outputs": [
    {
     "name": "stderr",
     "output_type": "stream",
     "text": [
      "/Users/anvvsharma/anvv/ws/agenticai/vagenticai/lib/python3.13/site-packages/tqdm/auto.py:21: TqdmWarning: IProgress not found. Please update jupyter and ipywidgets. See https://ipywidgets.readthedocs.io/en/stable/user_install.html\n",
      "  from .autonotebook import tqdm as notebook_tqdm\n"
     ]
    },
    {
     "data": {
      "text/plain": [
       "384"
      ]
     },
     "execution_count": 5,
     "metadata": {},
     "output_type": "execute_result"
    }
   ],
   "source": [
    "from langchain_huggingface import HuggingFaceEmbeddings\n",
    "embeddings = HuggingFaceEmbeddings(model_name=\"BAAI/bge-small-en\")\n",
    "len(embeddings.embed_query(\"Hi\"))"
   ]
  },
  {
   "cell_type": "markdown",
   "id": "1f910f66",
   "metadata": {},
   "source": [
    "##### Lets take a Data embedd it and store in Vector Database"
   ]
  },
  {
   "cell_type": "code",
   "execution_count": 7,
   "id": "ba061b75",
   "metadata": {},
   "outputs": [],
   "source": [
    "##### Imports\n",
    "from langchain_community.document_loaders import TextLoader, DirectoryLoader\n",
    "from langchain_community.vectorstores import Chroma\n",
    "from langchain.text_splitter import RecursiveCharacterTextSplitter\n",
    "import operator\n",
    "from langchain_core.tools import tool\n",
    "from typing import List\n",
    "from pydantic import BaseModel , Field\n",
    "from langchain.prompts import PromptTemplate\n",
    "from typing import TypedDict, Annotated, Sequence\n",
    "from langchain_core.messages import BaseMessage\n",
    "from langchain_core.output_parsers import StrOutputParser\n",
    "from langchain_core.prompts import ChatPromptTemplate, PromptTemplate\n",
    "from langchain_core.runnables import RunnablePassthrough\n",
    "from langchain_core.messages import HumanMessage, AIMessage\n",
    "from langgraph.graph import StateGraph,END,MessagesState,START\n",
    "from langgraph.prebuilt import ToolNode\n"
   ]
  },
  {
   "cell_type": "markdown",
   "id": "a5eea33d",
   "metadata": {},
   "source": [
    "##### \n",
    "#####   ``` This is the workflow with tool calling ```\n",
    "#####   ```Binding the tool to the LLM /  ```\n",
    "#####   ```Note: Model Use some good model for agentic workflow , as opensource model might not give the correct output ```\n",
    "#####   ```Testing a llm_with_tool  ```\n"
   ]
  },
  {
   "cell_type": "code",
   "execution_count": 8,
   "id": "1eb14431",
   "metadata": {},
   "outputs": [],
   "source": [
    "@tool\n",
    "def search(query:str):\n",
    "    \"\"\"This is my Custom Tool for earching a weather\"\"\"\n",
    "    if \"delhi\" in query.lower():\n",
    "        return \"the temperature is 45 degree and sunny \"\n",
    "    else:\n",
    "        return \"the temp is 25 degree and cloudy\""
   ]
  },
  {
   "cell_type": "code",
   "execution_count": 9,
   "id": "a8aacc15",
   "metadata": {},
   "outputs": [
    {
     "name": "stdout",
     "output_type": "stream",
     "text": [
      "content='' additional_kwargs={'tool_calls': [{'id': 'gpznegq2x', 'function': {'arguments': '{\"query\":\"weather in Delhi\"}', 'name': 'search'}, 'type': 'function'}]} response_metadata={'token_usage': {'completion_tokens': 99, 'prompt_tokens': 133, 'total_tokens': 232, 'completion_time': 0.391002197, 'prompt_time': 0.008578188, 'queue_time': 0.054174226000000006, 'total_time': 0.399580385}, 'model_name': 'deepseek-r1-distill-llama-70b', 'system_fingerprint': 'fp_1bbe7845ec', 'finish_reason': 'tool_calls', 'logprobs': None} id='run--ab22121e-18b6-4299-acd8-b6804c591c97-0' tool_calls=[{'name': 'search', 'args': {'query': 'weather in Delhi'}, 'id': 'gpznegq2x', 'type': 'tool_call'}] usage_metadata={'input_tokens': 133, 'output_tokens': 99, 'total_tokens': 232}\n"
     ]
    },
    {
     "data": {
      "text/plain": [
       "[{'name': 'search',\n",
       "  'args': {'query': 'weather in Delhi'},\n",
       "  'id': 'gpznegq2x',\n",
       "  'type': 'tool_call'}]"
      ]
     },
     "execution_count": 9,
     "metadata": {},
     "output_type": "execute_result"
    }
   ],
   "source": [
    "search.invoke(\"what is the Temperate in Hyderabad\")\n",
    "tools = [search]\n",
    "llm_with_tool = model.bind_tools(tools)\n",
    "response = llm_with_tool.invoke(\"what is the weather in delhi\")\n",
    "print(response)\n",
    "response.tool_calls"
   ]
  },
  {
   "cell_type": "code",
   "execution_count": 10,
   "id": "23e564f0",
   "metadata": {},
   "outputs": [
    {
     "data": {
      "text/plain": [
       "'\\ndef call_model(state: MessagesState):\\n    message = state[\\'messages\\'][-1]\\n    if isinstance(message, HumanMessage):\\n        question_text = message.content\\n    else:\\n        question_text = str(message)\\n    question = HumanMessage(content=question_text)\\n    print(f\"This is your question message: {question}\")\\n    response = model.invoke([question])\\n\\n    return {\"messages\": [response.content]}    \\n'"
      ]
     },
     "execution_count": 10,
     "metadata": {},
     "output_type": "execute_result"
    }
   ],
   "source": [
    "def call_model(state:MessagesState):\n",
    "    question=state[\"messages\"]\n",
    "    response=llm_with_tool.invoke(question)\n",
    "    return {\"messages\":[response]}\n",
    "'''\n",
    "def call_model(state: MessagesState):\n",
    "    message = state['messages'][-1]\n",
    "    if isinstance(message, HumanMessage):\n",
    "        question_text = message.content\n",
    "    else:\n",
    "        question_text = str(message)\n",
    "    question = HumanMessage(content=question_text)\n",
    "    print(f\"This is your question message: {question}\")\n",
    "    response = model.invoke([question])\n",
    "    \n",
    "    return {\"messages\": [response.content]}    \n",
    "'''    "
   ]
  },
  {
   "cell_type": "code",
   "execution_count": 13,
   "id": "56ff7670",
   "metadata": {},
   "outputs": [
    {
     "data": {
      "text/plain": [
       "[{'name': 'search',\n",
       "  'args': {'query': 'weather in Delhi'},\n",
       "  'id': '6rzj8a83b',\n",
       "  'type': 'tool_call'}]"
      ]
     },
     "execution_count": 13,
     "metadata": {},
     "output_type": "execute_result"
    }
   ],
   "source": [
    "input={\"messages\":[\"what is a weather in delhi?\"]}\n",
    "response = call_model(input)\n",
    "response[\"messages\"][-1].content\n",
    "response[\"messages\"][-1].tool_calls"
   ]
  },
  {
   "cell_type": "code",
   "execution_count": 14,
   "id": "9650052a",
   "metadata": {},
   "outputs": [],
   "source": [
    "def router_function(state:MessagesState):\n",
    "    message=state[\"messages\"]\n",
    "    last_message=message[-1]\n",
    "    if last_message.tool_calls:\n",
    "        return \"tools\"\n",
    "    return END"
   ]
  },
  {
   "cell_type": "code",
   "execution_count": 15,
   "id": "e2f0ca80",
   "metadata": {},
   "outputs": [
    {
     "data": {
      "text/plain": [
       "[StructuredTool(name='search', description='This is my Custom Tool for earching a weather', args_schema=<class 'langchain_core.utils.pydantic.search'>, func=<function search at 0x10cd865c0>)]"
      ]
     },
     "execution_count": 15,
     "metadata": {},
     "output_type": "execute_result"
    }
   ],
   "source": [
    "tools"
   ]
  },
  {
   "cell_type": "code",
   "execution_count": 16,
   "id": "43d54b32",
   "metadata": {},
   "outputs": [],
   "source": [
    "tool_node=ToolNode(tools)"
   ]
  },
  {
   "cell_type": "markdown",
   "id": "774bc15e",
   "metadata": {},
   "source": [
    "#### Define workflow"
   ]
  },
  {
   "cell_type": "code",
   "execution_count": 30,
   "id": "d6ede7c5",
   "metadata": {},
   "outputs": [
    {
     "data": {
      "text/plain": [
       "<langgraph.graph.state.StateGraph at 0x10cd529e0>"
      ]
     },
     "execution_count": 30,
     "metadata": {},
     "output_type": "execute_result"
    }
   ],
   "source": [
    "mytools = \"MyTools\"\n",
    "workflow2=StateGraph(MessagesState)\n",
    "workflow2.add_node(\"llm_with_tool\", call_model)\n",
    "workflow2.add_node(mytools, tool_node)\n",
    "workflow2.add_edge(START, \"llm_with_tool\")\n",
    "workflow2.add_conditional_edges(\"llm_with_tool\", router_function, {\"tools\": mytools, END:END})"
   ]
  },
  {
   "cell_type": "code",
   "execution_count": 31,
   "id": "4381c4e7",
   "metadata": {},
   "outputs": [],
   "source": [
    "app2=workflow2.compile()"
   ]
  },
  {
   "cell_type": "code",
   "execution_count": 32,
   "id": "7a67281e",
   "metadata": {},
   "outputs": [
    {
     "data": {
      "image/png": "[encoded data removed]",
      "text/plain": [
       "<IPython.core.display.Image object>"
      ]
     },
     "metadata": {},
     "output_type": "display_data"
    }
   ],
   "source": [
    "from IPython.display import Image, display\n",
    "display(Image(app2.get_graph().draw_mermaid_png()))"
   ]
  },
  {
   "cell_type": "markdown",
   "id": "821f96ed",
   "metadata": {},
   "source": [
    "##### Testing the App"
   ]
  },
  {
   "cell_type": "code",
   "execution_count": 33,
   "id": "1614a138",
   "metadata": {},
   "outputs": [
    {
     "data": {
      "text/plain": [
       "{'messages': [HumanMessage(content='what is a weather in bengraluru?', additional_kwargs={}, response_metadata={}, id='b335297f-8abe-4aad-9f5d-c9a45a6d3173'),\n",
       "  AIMessage(content='', additional_kwargs={'tool_calls': [{'id': '09r82tesd', 'function': {'arguments': '{\"query\":\"Bengaluru weather\"}', 'name': 'search'}, 'type': 'function'}]}, response_metadata={'token_usage': {'completion_tokens': 133, 'prompt_tokens': 136, 'total_tokens': 269, 'completion_time': 0.557226098, 'prompt_time': 0.008688224, 'queue_time': 0.053954016, 'total_time': 0.565914322}, 'model_name': 'deepseek-r1-distill-llama-70b', 'system_fingerprint': 'fp_1bbe7845ec', 'finish_reason': 'tool_calls', 'logprobs': None}, id='run--70d1f0fd-f87e-4f56-9677-abc6b86d375c-0', tool_calls=[{'name': 'search', 'args': {'query': 'Bengaluru weather'}, 'id': '09r82tesd', 'type': 'tool_call'}], usage_metadata={'input_tokens': 136, 'output_tokens': 133, 'total_tokens': 269}),\n",
       "  ToolMessage(content='the temp is 25 degree and cloudy', name='search', id='da761ecd-e427-42ec-9000-cbd3233d3cf6', tool_call_id='09r82tesd')]}"
      ]
     },
     "execution_count": 33,
     "metadata": {},
     "output_type": "execute_result"
    }
   ],
   "source": [
    "app2.invoke({\"messages\":[\"what is a weather in bengraluru?\"]})"
   ]
  },
  {
   "cell_type": "code",
   "execution_count": 34,
   "id": "a92da49f",
   "metadata": {},
   "outputs": [
    {
     "data": {
      "text/plain": [
       "{'messages': [HumanMessage(content='what is a weather in delhi?', additional_kwargs={}, response_metadata={}, id='d3925fa1-021c-444c-bfb1-9ccfa83d3a4a'),\n",
       "  AIMessage(content='', additional_kwargs={'tool_calls': [{'id': 'fr6fm4f0q', 'function': {'arguments': '{\"query\":\"weather in Delhi\"}', 'name': 'search'}, 'type': 'function'}]}, response_metadata={'token_usage': {'completion_tokens': 158, 'prompt_tokens': 134, 'total_tokens': 292, 'completion_time': 0.75037259, 'prompt_time': 0.008563668, 'queue_time': 0.058098552, 'total_time': 0.758936258}, 'model_name': 'deepseek-r1-distill-llama-70b', 'system_fingerprint': 'fp_1bbe7845ec', 'finish_reason': 'tool_calls', 'logprobs': None}, id='run--e9a9f81e-8944-4006-a214-2b23d82ddfd8-0', tool_calls=[{'name': 'search', 'args': {'query': 'weather in Delhi'}, 'id': 'fr6fm4f0q', 'type': 'tool_call'}], usage_metadata={'input_tokens': 134, 'output_tokens': 158, 'total_tokens': 292}),\n",
       "  ToolMessage(content='the temperature is 45 degree and sunny ', name='search', id='9716e763-b3ab-468b-8349-0f90975827bd', tool_call_id='fr6fm4f0q')]}"
      ]
     },
     "execution_count": 34,
     "metadata": {},
     "output_type": "execute_result"
    }
   ],
   "source": [
    "app2.invoke({\"messages\":[\"what is a weather in delhi?\"]})"
   ]
  },
  {
   "cell_type": "code",
   "execution_count": 35,
   "id": "dc7abc38",
   "metadata": {},
   "outputs": [
    {
     "data": {
      "text/plain": [
       "{'messages': [HumanMessage(content='hi how are you?', additional_kwargs={}, response_metadata={}, id='4e972b2c-1e80-4bf0-99e4-7e11bf673bfb'),\n",
       "  AIMessage(content='', additional_kwargs={'tool_calls': [{'id': 'smegnz4bb', 'function': {'arguments': '{\"query\":\"weather in Paris\"}', 'name': 'search'}, 'type': 'function'}]}, response_metadata={'token_usage': {'completion_tokens': 525, 'prompt_tokens': 131, 'total_tokens': 656, 'completion_time': 2.213222538, 'prompt_time': 0.008448651, 'queue_time': 0.057294309, 'total_time': 2.221671189}, 'model_name': 'deepseek-r1-distill-llama-70b', 'system_fingerprint': 'fp_1bbe7845ec', 'finish_reason': 'tool_calls', 'logprobs': None}, id='run--b447f8f8-f429-42b9-816b-16ebb40d4f60-0', tool_calls=[{'name': 'search', 'args': {'query': 'weather in Paris'}, 'id': 'smegnz4bb', 'type': 'tool_call'}], usage_metadata={'input_tokens': 131, 'output_tokens': 525, 'total_tokens': 656}),\n",
       "  ToolMessage(content='the temp is 25 degree and cloudy', name='search', id='4c113a71-4bd3-4ef1-8205-e96dc129a083', tool_call_id='smegnz4bb')]}"
      ]
     },
     "execution_count": 35,
     "metadata": {},
     "output_type": "execute_result"
    }
   ],
   "source": [
    "app2.invoke({\"messages\":[\"hi how are you?\"]})"
   ]
  },
  {
   "cell_type": "code",
   "execution_count": 36,
   "id": "9cbad6b1",
   "metadata": {},
   "outputs": [
    {
     "data": {
      "text/plain": [
       "''"
      ]
     },
     "execution_count": 36,
     "metadata": {},
     "output_type": "execute_result"
    }
   ],
   "source": [
    "##### Final Answer \n",
    "response[\"messages\"][-1].content"
   ]
  },
  {
   "cell_type": "code",
   "execution_count": 42,
   "id": "129a1cbd",
   "metadata": {},
   "outputs": [
    {
     "name": "stderr",
     "output_type": "stream",
     "text": [
      "Adding an edge to a graph that has already been compiled. This will not be reflected in the compiled graph.\n"
     ]
    }
   ],
   "source": [
    "#### \n",
    "workflow2.add_edge(mytools,\"llm_with_tool\")\n",
    "app3=workflow2.compile()\n"
   ]
  },
  {
   "cell_type": "code",
   "execution_count": 43,
   "id": "bae73380",
   "metadata": {},
   "outputs": [
    {
     "data": {
      "image/png": "[encoded data removed]",
      "text/plain": [
       "<IPython.core.display.Image object>"
      ]
     },
     "metadata": {},
     "output_type": "display_data"
    }
   ],
   "source": [
    "from IPython.display import Image, display\n",
    "display(Image(app3.get_graph().draw_mermaid_png()))"
   ]
  },
  {
   "cell_type": "code",
   "execution_count": 47,
   "id": "b042b38f",
   "metadata": {},
   "outputs": [
    {
     "name": "stdout",
     "output_type": "stream",
     "text": [
      "here is the output llm_with_tool\n",
      "_______\n",
      "{'messages': [AIMessage(content='', additional_kwargs={'tool_calls': [{'id': 'ffnw36v8p', 'function': {'arguments': '{\"query\":\"weather in New Delhi\"}', 'name': 'search'}, 'type': 'function'}]}, response_metadata={'token_usage': {'completion_tokens': 75, 'prompt_tokens': 135, 'total_tokens': 210, 'completion_time': 0.277482209, 'prompt_time': 0.008689351, 'queue_time': 0.05817177900000001, 'total_time': 0.28617156}, 'model_name': 'deepseek-r1-distill-llama-70b', 'system_fingerprint': 'fp_1bbe7845ec', 'finish_reason': 'tool_calls', 'logprobs': None}, id='run--0f18a26e-b118-4897-a6ea-24bf9e24444e-0', tool_calls=[{'name': 'search', 'args': {'query': 'weather in New Delhi'}, 'id': 'ffnw36v8p', 'type': 'tool_call'}], usage_metadata={'input_tokens': 135, 'output_tokens': 75, 'total_tokens': 210})]}\n",
      "\n",
      "\n",
      "here is the output MyTools\n",
      "_______\n",
      "{'messages': [ToolMessage(content='the temperature is 45 degree and sunny ', name='search', id='19211ed4-0061-45be-9542-81ee4e898d42', tool_call_id='ffnw36v8p')]}\n",
      "\n",
      "\n",
      "here is the output llm_with_tool\n",
      "_______\n",
      "{'messages': [AIMessage(content='The weather in New Delhi is currently 45 degrees and sunny. 🌞', additional_kwargs={}, response_metadata={'token_usage': {'completion_tokens': 165, 'prompt_tokens': 194, 'total_tokens': 359, 'completion_time': 0.737666842, 'prompt_time': 0.01949288, 'queue_time': 0.05818932, 'total_time': 0.757159722}, 'model_name': 'deepseek-r1-distill-llama-70b', 'system_fingerprint': 'fp_1bbe7845ec', 'finish_reason': 'stop', 'logprobs': None}, id='run--024ce713-ae6b-49ac-a841-b47b914e3114-0', usage_metadata={'input_tokens': 194, 'output_tokens': 165, 'total_tokens': 359})]}\n",
      "\n",
      "\n"
     ]
    }
   ],
   "source": [
    "#### Calling steam you will get response from each tool\n",
    "for output in app3.stream({\"messages\":[\"what is a weather in new delhi?\"]}):\n",
    "    for key, value in output.items():\n",
    "        print(f\"here is the output {key}\")\n",
    "        print(\"_______\")\n",
    "        print(value)\n",
    "        print(\"\\n\")\n"
   ]
  },
  {
   "cell_type": "code",
   "execution_count": 48,
   "id": "026b4f86",
   "metadata": {},
   "outputs": [],
   "source": [
    "#### # Memory class in langchain\n",
    "from langgraph.checkpoint.memory import MemorySaver\n",
    "memory = MemorySaver()"
   ]
  },
  {
   "cell_type": "code",
   "execution_count": 50,
   "id": "25917d3c",
   "metadata": {},
   "outputs": [
    {
     "data": {
      "text/plain": [
       "<langgraph.graph.state.StateGraph at 0x10d1c17b0>"
      ]
     },
     "execution_count": 50,
     "metadata": {},
     "output_type": "execute_result"
    }
   ],
   "source": [
    "workflow3=StateGraph(MessagesState)\n",
    "workflow3.add_node(\"llm_with_tool\",call_model)\n",
    "workflow3.add_node(mytools,tool_node)\n",
    "workflow3.add_edge(START,\"llm_with_tool\")\n",
    "workflow3.add_conditional_edges(\"llm_with_tool\",\n",
    "                                router_function,\n",
    "                                {\"tools\":mytools,\n",
    "                                 END:END})\n",
    "workflow3.add_edge(mytools,\"llm_with_tool\")"
   ]
  },
  {
   "cell_type": "code",
   "execution_count": 51,
   "id": "c3f43606",
   "metadata": {},
   "outputs": [],
   "source": [
    "app4=workflow3.compile(checkpointer=memory)"
   ]
  },
  {
   "cell_type": "code",
   "execution_count": 52,
   "id": "88b91757",
   "metadata": {},
   "outputs": [
    {
     "data": {
      "image/png": "[encoded data removed]",
      "text/plain": [
       "<IPython.core.display.Image object>"
      ]
     },
     "metadata": {},
     "output_type": "display_data"
    }
   ],
   "source": [
    "from IPython.display import Image, display\n",
    "display(Image(app4.get_graph().draw_mermaid_png()))"
   ]
  },
  {
   "cell_type": "code",
   "execution_count": 53,
   "id": "0ca579f6",
   "metadata": {},
   "outputs": [
    {
     "name": "stdout",
     "output_type": "stream",
     "text": [
      "================================\u001b[1m Human Message \u001b[0m=================================\n",
      "\n",
      "what is a weather in new delhi?\n",
      "==================================\u001b[1m Ai Message \u001b[0m==================================\n",
      "Tool Calls:\n",
      "  search (qy961xa7h)\n",
      " Call ID: qy961xa7h\n",
      "  Args:\n",
      "    query: weather in New Delhi\n",
      "=================================\u001b[1m Tool Message \u001b[0m=================================\n",
      "Name: search\n",
      "\n",
      "the temperature is 45 degree and sunny \n",
      "==================================\u001b[1m Ai Message \u001b[0m==================================\n",
      "\n",
      "The current weather in New Delhi is 45 degrees and sunny. Make sure to stay hydrated and use sunscreen if you're going outside!\n"
     ]
    }
   ],
   "source": [
    "config={\"configurable\": {\"thread_id\": \"1\"}}\n",
    "events=app4.stream(\n",
    "    {\"messages\":[\"what is a weather in new delhi?\"]},config=config,stream_mode=\"values\"\n",
    "    )\n",
    "for event in events:\n",
    "    event[\"messages\"][-1].pretty_print()\n",
    "        "
   ]
  },
  {
   "cell_type": "code",
   "execution_count": 54,
   "id": "374117cb",
   "metadata": {},
   "outputs": [
    {
     "name": "stdout",
     "output_type": "stream",
     "text": [
      "================================\u001b[1m Human Message \u001b[0m=================================\n",
      "\n",
      "what is a weather in indore?\n",
      "==================================\u001b[1m Ai Message \u001b[0m==================================\n",
      "Tool Calls:\n",
      "  search (5bedbw7mq)\n",
      " Call ID: 5bedbw7mq\n",
      "  Args:\n",
      "    query: weather in Indore\n",
      "=================================\u001b[1m Tool Message \u001b[0m=================================\n",
      "Name: search\n",
      "\n",
      "the temp is 25 degree and cloudy\n",
      "==================================\u001b[1m Ai Message \u001b[0m==================================\n",
      "Tool Calls:\n",
      "  search (mck5n5x86)\n",
      " Call ID: mck5n5x86\n",
      "  Args:\n",
      "    query: weather in Indore\n",
      "=================================\u001b[1m Tool Message \u001b[0m=================================\n",
      "Name: search\n",
      "\n",
      "the temp is 25 degree and cloudy\n",
      "==================================\u001b[1m Ai Message \u001b[0m==================================\n",
      "\n",
      "The temperature in Indore is **25 degrees** and the weather is **cloudy**.\n"
     ]
    }
   ],
   "source": [
    "events=app4.stream(\n",
    "    {\"messages\":[\"what is a weather in indore?\"]},config=config,stream_mode=\"values\"\n",
    "    )\n",
    "for event in events:\n",
    "    event[\"messages\"][-1].pretty_print()"
   ]
  },
  {
   "cell_type": "code",
   "execution_count": 55,
   "id": "e6e0de6b",
   "metadata": {},
   "outputs": [
    {
     "data": {
      "text/plain": [
       "{'configurable': {'thread_id': '1'}}"
      ]
     },
     "execution_count": 55,
     "metadata": {},
     "output_type": "execute_result"
    }
   ],
   "source": [
    "config"
   ]
  },
  {
   "cell_type": "code",
   "execution_count": 56,
   "id": "bcbd4751",
   "metadata": {},
   "outputs": [
    {
     "data": {
      "text/plain": [
       "{'v': 3,\n",
       " 'ts': '2025-06-14T18:47:26.674113+00:00',\n",
       " 'id': '1f049500-44b5-61a6-800a-18059465922c',\n",
       " 'channel_versions': {'__start__': '00000000000000000000000000000007.0.4199276226614974',\n",
       "  'messages': '00000000000000000000000000000012.0.2156460152694466',\n",
       "  'branch:to:llm_with_tool': '00000000000000000000000000000012.0.5639211849244408',\n",
       "  'branch:to:MyTools': '00000000000000000000000000000011.0.0820491091813369'},\n",
       " 'versions_seen': {'__input__': {},\n",
       "  '__start__': {'__start__': '00000000000000000000000000000006.0.6448793578144616'},\n",
       "  'llm_with_tool': {'branch:to:llm_with_tool': '00000000000000000000000000000011.0.1319456798626959'},\n",
       "  'MyTools': {'branch:to:MyTools': '00000000000000000000000000000010.0.26522125954548126'}},\n",
       " 'channel_values': {'messages': [HumanMessage(content='what is a weather in new delhi?', additional_kwargs={}, response_metadata={}, id='be7629df-4d10-4fd6-903c-9d93ed32c3bc'),\n",
       "   AIMessage(content='', additional_kwargs={'tool_calls': [{'id': 'qy961xa7h', 'function': {'arguments': '{\"query\":\"weather in New Delhi\"}', 'name': 'search'}, 'type': 'function'}]}, response_metadata={'token_usage': {'completion_tokens': 202, 'prompt_tokens': 135, 'total_tokens': 337, 'completion_time': 0.916084124, 'prompt_time': 0.008702564, 'queue_time': 0.054910076, 'total_time': 0.924786688}, 'model_name': 'deepseek-r1-distill-llama-70b', 'system_fingerprint': 'fp_1bbe7845ec', 'finish_reason': 'tool_calls', 'logprobs': None}, id='run--5d5e036d-39cb-46e5-91f0-035540412554-0', tool_calls=[{'name': 'search', 'args': {'query': 'weather in New Delhi'}, 'id': 'qy961xa7h', 'type': 'tool_call'}], usage_metadata={'input_tokens': 135, 'output_tokens': 202, 'total_tokens': 337}),\n",
       "   ToolMessage(content='the temperature is 45 degree and sunny ', name='search', id='4a83e2b4-6d22-4ef0-8f51-8e3f31849568', tool_call_id='qy961xa7h'),\n",
       "   AIMessage(content=\"The current weather in New Delhi is 45 degrees and sunny. Make sure to stay hydrated and use sunscreen if you're going outside!\", additional_kwargs={}, response_metadata={'token_usage': {'completion_tokens': 102, 'prompt_tokens': 194, 'total_tokens': 296, 'completion_time': 0.455882275, 'prompt_time': 0.018585305, 'queue_time': 0.054516224, 'total_time': 0.47446758}, 'model_name': 'deepseek-r1-distill-llama-70b', 'system_fingerprint': 'fp_1bbe7845ec', 'finish_reason': 'stop', 'logprobs': None}, id='run--6b128139-71a2-4a83-9f39-8db0af7373a0-0', usage_metadata={'input_tokens': 194, 'output_tokens': 102, 'total_tokens': 296}),\n",
       "   HumanMessage(content='what is a weather in indore?', additional_kwargs={}, response_metadata={}, id='6585c23e-d22f-4c27-91e8-005bf0356093'),\n",
       "   AIMessage(content='', additional_kwargs={'tool_calls': [{'id': '5bedbw7mq', 'function': {'arguments': '{\"query\":\"weather in Indore\"}', 'name': 'search'}, 'type': 'function'}]}, response_metadata={'token_usage': {'completion_tokens': 305, 'prompt_tokens': 205, 'total_tokens': 510, 'completion_time': 1.261412538, 'prompt_time': 0.012728678, 'queue_time': 0.056283272, 'total_time': 1.274141216}, 'model_name': 'deepseek-r1-distill-llama-70b', 'system_fingerprint': 'fp_1bbe7845ec', 'finish_reason': 'tool_calls', 'logprobs': None}, id='run--fe3073a9-e6f2-42b4-87b0-3789a494ed9c-0', tool_calls=[{'name': 'search', 'args': {'query': 'weather in Indore'}, 'id': '5bedbw7mq', 'type': 'tool_call'}], usage_metadata={'input_tokens': 205, 'output_tokens': 305, 'total_tokens': 510}),\n",
       "   ToolMessage(content='the temp is 25 degree and cloudy', name='search', id='9cd4aa48-3279-4e2e-9f6e-cdc83f127afd', tool_call_id='5bedbw7mq'),\n",
       "   AIMessage(content='', additional_kwargs={'tool_calls': [{'id': 'mck5n5x86', 'function': {'arguments': '{\"query\":\"weather in Indore\"}', 'name': 'search'}, 'type': 'function'}]}, response_metadata={'token_usage': {'completion_tokens': 158, 'prompt_tokens': 263, 'total_tokens': 421, 'completion_time': 0.667986527, 'prompt_time': 0.017008286, 'queue_time': 0.053784914, 'total_time': 0.684994813}, 'model_name': 'deepseek-r1-distill-llama-70b', 'system_fingerprint': 'fp_1bbe7845ec', 'finish_reason': 'tool_calls', 'logprobs': None}, id='run--7d3aed00-8376-4548-92c2-58d15535d2f5-0', tool_calls=[{'name': 'search', 'args': {'query': 'weather in Indore'}, 'id': 'mck5n5x86', 'type': 'tool_call'}], usage_metadata={'input_tokens': 263, 'output_tokens': 158, 'total_tokens': 421}),\n",
       "   ToolMessage(content='the temp is 25 degree and cloudy', name='search', id='7c003766-d2f1-463a-9759-bb611664feff', tool_call_id='mck5n5x86'),\n",
       "   AIMessage(content='The temperature in Indore is **25 degrees** and the weather is **cloudy**.', additional_kwargs={}, response_metadata={'token_usage': {'completion_tokens': 251, 'prompt_tokens': 323, 'total_tokens': 574, 'completion_time': 1.167290033, 'prompt_time': 0.020470971, 'queue_time': 0.054168338999999996, 'total_time': 1.187761004}, 'model_name': 'deepseek-r1-distill-llama-70b', 'system_fingerprint': 'fp_1bbe7845ec', 'finish_reason': 'stop', 'logprobs': None}, id='run--11c26b75-fc17-466a-9f7a-0fe8b8aff592-0', usage_metadata={'input_tokens': 323, 'output_tokens': 251, 'total_tokens': 574})]},\n",
       " 'pending_sends': []}"
      ]
     },
     "execution_count": 56,
     "metadata": {},
     "output_type": "execute_result"
    }
   ],
   "source": [
    "memory.get(config)"
   ]
  },
  {
   "cell_type": "code",
   "execution_count": 57,
   "id": "94f918ea",
   "metadata": {},
   "outputs": [
    {
     "name": "stdout",
     "output_type": "stream",
     "text": [
      "================================\u001b[1m Human Message \u001b[0m=================================\n",
      "\n",
      "in which city the temp was 25 degree?\n",
      "==================================\u001b[1m Ai Message \u001b[0m==================================\n",
      "\n",
      "The temperature was 25 degrees in **Indore**.\n"
     ]
    }
   ],
   "source": [
    "events=app4.stream(\n",
    "    {\"messages\":[\"in which city the temp was 25 degree?\"]},config=config,stream_mode=\"values\"\n",
    "    )\n",
    "for event in events:\n",
    "    event[\"messages\"][-1].pretty_print()\n",
    "    memory.get(config)"
   ]
  },
  {
   "cell_type": "code",
   "execution_count": 59,
   "id": "e4e3ae67",
   "metadata": {},
   "outputs": [
    {
     "data": {
      "text/plain": [
       "{'v': 3,\n",
       " 'ts': '2025-06-14T18:48:30.954632+00:00',\n",
       " 'id': '1f049502-a9bb-6f4e-800d-311207161080',\n",
       " 'channel_versions': {'__start__': '00000000000000000000000000000014.0.890358141824959',\n",
       "  'messages': '00000000000000000000000000000015.0.556359723391595',\n",
       "  'branch:to:llm_with_tool': '00000000000000000000000000000015.0.1877719460074052',\n",
       "  'branch:to:MyTools': '00000000000000000000000000000011.0.0820491091813369'},\n",
       " 'versions_seen': {'__input__': {},\n",
       "  '__start__': {'__start__': '00000000000000000000000000000013.0.18713084057201945'},\n",
       "  'llm_with_tool': {'branch:to:llm_with_tool': '00000000000000000000000000000014.0.7639846947777081'},\n",
       "  'MyTools': {'branch:to:MyTools': '00000000000000000000000000000010.0.26522125954548126'}},\n",
       " 'channel_values': {'messages': [HumanMessage(content='what is a weather in new delhi?', additional_kwargs={}, response_metadata={}, id='be7629df-4d10-4fd6-903c-9d93ed32c3bc'),\n",
       "   AIMessage(content='', additional_kwargs={'tool_calls': [{'id': 'qy961xa7h', 'function': {'arguments': '{\"query\":\"weather in New Delhi\"}', 'name': 'search'}, 'type': 'function'}]}, response_metadata={'token_usage': {'completion_tokens': 202, 'prompt_tokens': 135, 'total_tokens': 337, 'completion_time': 0.916084124, 'prompt_time': 0.008702564, 'queue_time': 0.054910076, 'total_time': 0.924786688}, 'model_name': 'deepseek-r1-distill-llama-70b', 'system_fingerprint': 'fp_1bbe7845ec', 'finish_reason': 'tool_calls', 'logprobs': None}, id='run--5d5e036d-39cb-46e5-91f0-035540412554-0', tool_calls=[{'name': 'search', 'args': {'query': 'weather in New Delhi'}, 'id': 'qy961xa7h', 'type': 'tool_call'}], usage_metadata={'input_tokens': 135, 'output_tokens': 202, 'total_tokens': 337}),\n",
       "   ToolMessage(content='the temperature is 45 degree and sunny ', name='search', id='4a83e2b4-6d22-4ef0-8f51-8e3f31849568', tool_call_id='qy961xa7h'),\n",
       "   AIMessage(content=\"The current weather in New Delhi is 45 degrees and sunny. Make sure to stay hydrated and use sunscreen if you're going outside!\", additional_kwargs={}, response_metadata={'token_usage': {'completion_tokens': 102, 'prompt_tokens': 194, 'total_tokens': 296, 'completion_time': 0.455882275, 'prompt_time': 0.018585305, 'queue_time': 0.054516224, 'total_time': 0.47446758}, 'model_name': 'deepseek-r1-distill-llama-70b', 'system_fingerprint': 'fp_1bbe7845ec', 'finish_reason': 'stop', 'logprobs': None}, id='run--6b128139-71a2-4a83-9f39-8db0af7373a0-0', usage_metadata={'input_tokens': 194, 'output_tokens': 102, 'total_tokens': 296}),\n",
       "   HumanMessage(content='what is a weather in indore?', additional_kwargs={}, response_metadata={}, id='6585c23e-d22f-4c27-91e8-005bf0356093'),\n",
       "   AIMessage(content='', additional_kwargs={'tool_calls': [{'id': '5bedbw7mq', 'function': {'arguments': '{\"query\":\"weather in Indore\"}', 'name': 'search'}, 'type': 'function'}]}, response_metadata={'token_usage': {'completion_tokens': 305, 'prompt_tokens': 205, 'total_tokens': 510, 'completion_time': 1.261412538, 'prompt_time': 0.012728678, 'queue_time': 0.056283272, 'total_time': 1.274141216}, 'model_name': 'deepseek-r1-distill-llama-70b', 'system_fingerprint': 'fp_1bbe7845ec', 'finish_reason': 'tool_calls', 'logprobs': None}, id='run--fe3073a9-e6f2-42b4-87b0-3789a494ed9c-0', tool_calls=[{'name': 'search', 'args': {'query': 'weather in Indore'}, 'id': '5bedbw7mq', 'type': 'tool_call'}], usage_metadata={'input_tokens': 205, 'output_tokens': 305, 'total_tokens': 510}),\n",
       "   ToolMessage(content='the temp is 25 degree and cloudy', name='search', id='9cd4aa48-3279-4e2e-9f6e-cdc83f127afd', tool_call_id='5bedbw7mq'),\n",
       "   AIMessage(content='', additional_kwargs={'tool_calls': [{'id': 'mck5n5x86', 'function': {'arguments': '{\"query\":\"weather in Indore\"}', 'name': 'search'}, 'type': 'function'}]}, response_metadata={'token_usage': {'completion_tokens': 158, 'prompt_tokens': 263, 'total_tokens': 421, 'completion_time': 0.667986527, 'prompt_time': 0.017008286, 'queue_time': 0.053784914, 'total_time': 0.684994813}, 'model_name': 'deepseek-r1-distill-llama-70b', 'system_fingerprint': 'fp_1bbe7845ec', 'finish_reason': 'tool_calls', 'logprobs': None}, id='run--7d3aed00-8376-4548-92c2-58d15535d2f5-0', tool_calls=[{'name': 'search', 'args': {'query': 'weather in Indore'}, 'id': 'mck5n5x86', 'type': 'tool_call'}], usage_metadata={'input_tokens': 263, 'output_tokens': 158, 'total_tokens': 421}),\n",
       "   ToolMessage(content='the temp is 25 degree and cloudy', name='search', id='7c003766-d2f1-463a-9759-bb611664feff', tool_call_id='mck5n5x86'),\n",
       "   AIMessage(content='The temperature in Indore is **25 degrees** and the weather is **cloudy**.', additional_kwargs={}, response_metadata={'token_usage': {'completion_tokens': 251, 'prompt_tokens': 323, 'total_tokens': 574, 'completion_time': 1.167290033, 'prompt_time': 0.020470971, 'queue_time': 0.054168338999999996, 'total_time': 1.187761004}, 'model_name': 'deepseek-r1-distill-llama-70b', 'system_fingerprint': 'fp_1bbe7845ec', 'finish_reason': 'stop', 'logprobs': None}, id='run--11c26b75-fc17-466a-9f7a-0fe8b8aff592-0', usage_metadata={'input_tokens': 323, 'output_tokens': 251, 'total_tokens': 574}),\n",
       "   HumanMessage(content='in which city the temp was 25 degree?', additional_kwargs={}, response_metadata={}, id='cab139ce-5702-405c-b53d-ee4b9c78ff9f'),\n",
       "   AIMessage(content='The temperature was 25 degrees in **Indore**.', additional_kwargs={}, response_metadata={'token_usage': {'completion_tokens': 92, 'prompt_tokens': 336, 'total_tokens': 428, 'completion_time': 0.426371405, 'prompt_time': 0.028627269, 'queue_time': 0.057035101000000005, 'total_time': 0.454998674}, 'model_name': 'deepseek-r1-distill-llama-70b', 'system_fingerprint': 'fp_1bbe7845ec', 'finish_reason': 'stop', 'logprobs': None}, id='run--2b05a31f-32ff-4850-9881-a4df3908b923-0', usage_metadata={'input_tokens': 336, 'output_tokens': 92, 'total_tokens': 428})]},\n",
       " 'pending_sends': []}"
      ]
     },
     "execution_count": 59,
     "metadata": {},
     "output_type": "execute_result"
    }
   ],
   "source": [
    "memory.get(config)"
   ]
  }
 ],
 "metadata": {
  "kernelspec": {
   "display_name": "vagenticai",
   "language": "python",
   "name": "python3"
  },
  "language_info": {
   "codemirror_mode": {
    "name": "ipython",
    "version": 3
   },
   "file_extension": ".py",
   "mimetype": "text/x-python",
   "name": "python",
   "nbconvert_exporter": "python",
   "pygments_lexer": "ipython3",
   "version": "3.13.2"
  }
 },
 "nbformat": 4,
 "nbformat_minor": 5
}
