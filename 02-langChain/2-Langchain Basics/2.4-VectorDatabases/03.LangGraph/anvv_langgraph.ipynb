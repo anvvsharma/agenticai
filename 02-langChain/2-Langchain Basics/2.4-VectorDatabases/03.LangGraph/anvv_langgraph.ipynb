{
 "cells": [
  {
   "cell_type": "markdown",
   "id": "618da9bf",
   "metadata": {},
   "source": [
    "##### Lang Graph\n",
    "`\n",
    "+ Note - is a Function / Tool\n",
    "+ Edge\n",
    "+ graph()\n",
    "+ state\n",
    "+ invoke\n",
    "+ stategraph()\n",
    "\n",
    "`"
   ]
  },
  {
   "cell_type": "code",
   "execution_count": 46,
   "id": "90587693",
   "metadata": {},
   "outputs": [
    {
     "name": "stdout",
     "output_type": "stream",
     "text": [
      "great\n"
     ]
    }
   ],
   "source": [
    "print(\"great\")"
   ]
  },
  {
   "cell_type": "code",
   "execution_count": 47,
   "id": "dcb849e4",
   "metadata": {},
   "outputs": [
    {
     "data": {
      "text/plain": [
       "True"
      ]
     },
     "execution_count": 47,
     "metadata": {},
     "output_type": "execute_result"
    }
   ],
   "source": [
    "#### import\n",
    "import os\n",
    "from dotenv import load_dotenv\n",
    "from langgraph.graph import Graph\n",
    "from langchain_google_genai import ChatGoogleGenerativeAI\n",
    "from IPython.display import Image, display\n",
    "load_dotenv()\n"
   ]
  },
  {
   "cell_type": "code",
   "execution_count": 48,
   "id": "fba2cd6b",
   "metadata": {},
   "outputs": [],
   "source": [
    "def function_1(input1):\n",
    "    return input1 + \" from first function, \""
   ]
  },
  {
   "cell_type": "code",
   "execution_count": 49,
   "id": "7af769a7",
   "metadata": {},
   "outputs": [],
   "source": [
    "def function_2(input2):\n",
    "    return input2 + \" Veerabhadra Sharma from second function\""
   ]
  },
  {
   "cell_type": "code",
   "execution_count": 50,
   "id": "60f064b5",
   "metadata": {},
   "outputs": [],
   "source": [
    "def function(input3):\n",
    "    pass"
   ]
  },
  {
   "cell_type": "code",
   "execution_count": 51,
   "id": "ac690f25",
   "metadata": {},
   "outputs": [
    {
     "data": {
      "text/plain": [
       "'A N V  from first function, '"
      ]
     },
     "execution_count": 51,
     "metadata": {},
     "output_type": "execute_result"
    }
   ],
   "source": [
    "function_1(\"A N V \")"
   ]
  },
  {
   "cell_type": "code",
   "execution_count": 52,
   "id": "723a0682",
   "metadata": {},
   "outputs": [
    {
     "data": {
      "text/plain": [
       "'Veerabhadra Sharma Veerabhadra Sharma from second function'"
      ]
     },
     "execution_count": 52,
     "metadata": {},
     "output_type": "execute_result"
    }
   ],
   "source": [
    "function_2(\"Veerabhadra Sharma\")"
   ]
  },
  {
   "cell_type": "code",
   "execution_count": 53,
   "id": "c1a9949a",
   "metadata": {},
   "outputs": [],
   "source": [
    "#pip install langgraph"
   ]
  },
  {
   "cell_type": "code",
   "execution_count": 54,
   "id": "31172453",
   "metadata": {},
   "outputs": [],
   "source": [
    "workflow1=Graph()"
   ]
  },
  {
   "cell_type": "code",
   "execution_count": 55,
   "id": "8ac3bab8",
   "metadata": {},
   "outputs": [
    {
     "data": {
      "text/plain": [
       "<langgraph.graph.graph.Graph at 0x1219ed950>"
      ]
     },
     "execution_count": 55,
     "metadata": {},
     "output_type": "execute_result"
    }
   ],
   "source": [
    "workflow1.add_node(\"func_1\", function_1)"
   ]
  },
  {
   "cell_type": "code",
   "execution_count": 56,
   "id": "ff83dfbb",
   "metadata": {},
   "outputs": [
    {
     "data": {
      "text/plain": [
       "<langgraph.graph.graph.Graph at 0x1219ed950>"
      ]
     },
     "execution_count": 56,
     "metadata": {},
     "output_type": "execute_result"
    }
   ],
   "source": [
    "workflow1.add_node(\"func_2\", function_2)"
   ]
  },
  {
   "cell_type": "code",
   "execution_count": 57,
   "id": "8e5f9ffc",
   "metadata": {},
   "outputs": [
    {
     "data": {
      "text/plain": [
       "<langgraph.graph.graph.Graph at 0x1219ed950>"
      ]
     },
     "execution_count": 57,
     "metadata": {},
     "output_type": "execute_result"
    }
   ],
   "source": [
    "workflow1.add_edge(\"func_1\",\"func_2\")"
   ]
  },
  {
   "cell_type": "code",
   "execution_count": 58,
   "id": "f44859d1",
   "metadata": {},
   "outputs": [],
   "source": [
    "workflow1.set_entry_point(\"func_1\")\n",
    "workflow1.set_finish_point(\"func_2\")\n",
    "app=workflow1.compile()\n"
   ]
  },
  {
   "cell_type": "code",
   "execution_count": 59,
   "id": "cf8d19a2",
   "metadata": {},
   "outputs": [
    {
     "data": {
      "text/plain": [
       "Graph(nodes={'func_1': Node(id='func_1', name='func_1', data=func_1(tags=None, recurse=True, explode_args=False, func_accepts_config=False, func_accepts={}), metadata=None), 'func_2': Node(id='func_2', name='func_2', data=func_2(tags=None, recurse=True, explode_args=False, func_accepts_config=False, func_accepts={}), metadata=None), '__start__': Node(id='__start__', name='__start__', data=None, metadata=None), '__end__': Node(id='__end__', name='__end__', data=None, metadata=None)}, edges=[Edge(source='__start__', target='func_1', data=None, conditional=False), Edge(source='func_1', target='func_2', data=None, conditional=False), Edge(source='func_2', target='__end__', data=None, conditional=False)])"
      ]
     },
     "execution_count": 59,
     "metadata": {},
     "output_type": "execute_result"
    }
   ],
   "source": [
    "app.get_graph()"
   ]
  },
  {
   "cell_type": "code",
   "execution_count": 60,
   "id": "721d7ca6",
   "metadata": {},
   "outputs": [
    {
     "data": {
      "image/png": "[encoded data removed]",
      "text/plain": [
       "<IPython.core.display.Image object>"
      ]
     },
     "metadata": {},
     "output_type": "display_data"
    }
   ],
   "source": [
    "\n",
    "display(Image(app.get_graph().draw_mermaid_png()))"
   ]
  },
  {
   "cell_type": "code",
   "execution_count": 61,
   "id": "6cfec631",
   "metadata": {},
   "outputs": [
    {
     "data": {
      "text/plain": [
       "'hi this is A N V  from first function,  Veerabhadra Sharma from second function'"
      ]
     },
     "execution_count": 61,
     "metadata": {},
     "output_type": "execute_result"
    }
   ],
   "source": [
    "app.invoke(\"hi this is A N V \")"
   ]
  },
  {
   "cell_type": "code",
   "execution_count": 62,
   "id": "32b0f563",
   "metadata": {},
   "outputs": [
    {
     "name": "stdout",
     "output_type": "stream",
     "text": [
      "func_1\n",
      "......\n",
      "This is ANV from first function, \n",
      "func_2\n",
      "......\n",
      "This is ANV from first function,  Veerabhadra Sharma from second function\n"
     ]
    }
   ],
   "source": [
    "for output in app.stream(\"This is ANV\"):\n",
    "    for key, value in output.items():\n",
    "        print(key)\n",
    "        print(\"......\")\n",
    "        print(value)\n"
   ]
  },
  {
   "cell_type": "code",
   "execution_count": 63,
   "id": "ff470a80",
   "metadata": {},
   "outputs": [],
   "source": [
    "#pip install -U langchain langchain-google-genai"
   ]
  },
  {
   "cell_type": "code",
   "execution_count": 64,
   "id": "f361b279",
   "metadata": {},
   "outputs": [],
   "source": [
    "model=ChatGoogleGenerativeAI(model='models/gemini-1.5-flash')\n"
   ]
  },
  {
   "cell_type": "code",
   "execution_count": 65,
   "id": "d1be0bed",
   "metadata": {},
   "outputs": [
    {
     "data": {
      "text/plain": [
       "'Hi there! How can I help you today?'"
      ]
     },
     "execution_count": 65,
     "metadata": {},
     "output_type": "execute_result"
    }
   ],
   "source": [
    "model.invoke(\"hi\").content"
   ]
  },
  {
   "cell_type": "code",
   "execution_count": 67,
   "id": "2eb673a9",
   "metadata": {},
   "outputs": [],
   "source": [
    "def llm(input):\n",
    "    from langchain_google_genai import ChatGoogleGenerativeAI\n",
    "    model=ChatGoogleGenerativeAI(model='models/gemini-1.5-flash')\n",
    "    output=model.invoke(input)\n",
    "    return output.content"
   ]
  },
  {
   "cell_type": "code",
   "execution_count": 68,
   "id": "7ddb2f3e",
   "metadata": {},
   "outputs": [],
   "source": [
    "def token_counter(input):\n",
    "    token = input.split()\n",
    "    token_number = len(token)\n",
    "    return f\"total token number in the generated answer is {token_number}\""
   ]
  },
  {
   "cell_type": "code",
   "execution_count": 69,
   "id": "9aecd96b",
   "metadata": {},
   "outputs": [
    {
     "data": {
      "text/plain": [
       "Graph(nodes={'My_LLM_1': Node(id='My_LLM_1', name='My_LLM_1', data=My_LLM_1(tags=None, recurse=True, explode_args=False, func_accepts_config=False, func_accepts={}), metadata=None), 'LLM_Output_Token_Counter': Node(id='LLM_Output_Token_Counter', name='LLM_Output_Token_Counter', data=LLM_Output_Token_Counter(tags=None, recurse=True, explode_args=False, func_accepts_config=False, func_accepts={}), metadata=None), '__start__': Node(id='__start__', name='__start__', data=None, metadata=None), '__end__': Node(id='__end__', name='__end__', data=None, metadata=None)}, edges=[Edge(source='__start__', target='My_LLM_1', data=None, conditional=False), Edge(source='My_LLM_1', target='LLM_Output_Token_Counter', data=None, conditional=False), Edge(source='LLM_Output_Token_Counter', target='__end__', data=None, conditional=False)])"
      ]
     },
     "execution_count": 69,
     "metadata": {},
     "output_type": "execute_result"
    }
   ],
   "source": [
    "workflow2=Graph()\n",
    "workflow2.add_node(\"My_LLM_1\", llm)\n",
    "workflow2.add_node(\"LLM_Output_Token_Counter\", token_counter)\n",
    "workflow2.add_edge(\"My_LLM_1\", \"LLM_Output_Token_Counter\")\n",
    "workflow2.set_entry_point(\"My_LLM_1\")\n",
    "workflow2.set_finish_point(\"LLM_Output_Token_Counter\")\n",
    "app2=workflow2.compile()\n",
    "app2.get_graph()\n",
    "#from IPython.display import Image, display\n",
    "#display(Image(app2.get_graph().draw_mermaid_png()))\n"
   ]
  },
  {
   "cell_type": "code",
   "execution_count": 70,
   "id": "79f81540",
   "metadata": {},
   "outputs": [
    {
     "data": {
      "text/plain": [
       "'total token number in the generated answer is 711'"
      ]
     },
     "execution_count": 70,
     "metadata": {},
     "output_type": "execute_result"
    }
   ],
   "source": [
    "app2.invoke(\"tell me about the tata enterpirse in very detail.\")"
   ]
  },
  {
   "cell_type": "code",
   "execution_count": 71,
   "id": "3fca9363",
   "metadata": {},
   "outputs": [
    {
     "name": "stdout",
     "output_type": "stream",
     "text": [
      "here is output from My_LLM_1\n",
      "_______\n",
      "Tata Enterprises, more accurately referred to as the **Tata Group**, is a massive Indian multinational conglomerate with a diverse portfolio spanning numerous sectors.  It's not a single entity but a network of over 100 operating companies, under the overarching umbrella of Tata Sons, the holding company.  Understanding its complexity requires looking at several key aspects:\n",
      "\n",
      "**1. History and Founding:**\n",
      "\n",
      "The Tata Group's origins trace back to 1868 when Jamsetji Tata, a Parsi entrepreneur, founded the Tata & Sons trading company in Mumbai.  His vision extended beyond profit, emphasizing ethical business practices, community development, and nation-building. This philosophy continues to be a cornerstone of the group's identity.  Over the decades, the group expanded organically and through acquisitions, diversifying into various industries.\n",
      "\n",
      "**2. Structure and Ownership:**\n",
      "\n",
      "The Tata Group's structure is unique and complex. Tata Sons, a privately held company, acts as the holding company and owns significant stakes in various Tata companies.  However, the ownership structure is not straightforward; it's a complex web of trusts and shareholdings, ensuring no single individual or family holds excessive control.  The primary shareholder is the Sir Dorabji Tata Trust and Sir Ratan Tata Trust, philanthropic trusts that control a significant portion of Tata Sons.  This structure aims to ensure long-term sustainability and aligns with the group's commitment to social responsibility.\n",
      "\n",
      "**3. Key Sectors and Companies:**\n",
      "\n",
      "The Tata Group's presence is felt across a vast range of sectors, including:\n",
      "\n",
      "* **Automotive:** Tata Motors (passenger vehicles, commercial vehicles, Jaguar Land Rover), Tata Daewoo Commercial Vehicle\n",
      "* **Steel:** Tata Steel (one of the world's largest steel producers)\n",
      "* **IT Services:** Tata Consultancy Services (TCS, one of the world's leading IT services companies), Tata Elxsi (design and technology services)\n",
      "* **Telecommunications:** Tata Teleservices (formerly a major player, now significantly reduced in scope)\n",
      "* **Consumer Goods:** Tata Consumer Products (tea, coffee, salt, pulses), Titan Company (watches, jewellery, eyewear)\n",
      "* **Chemicals:** Tata Chemicals (chemicals, fertilizers)\n",
      "* **Energy:** Tata Power (electricity generation and distribution)\n",
      "* **Hospitality:** Indian Hotels Company (Taj Hotels)\n",
      "* **Aerospace & Defence:** Tata Advanced Systems\n",
      "* **Retail:** Trent (Westside, Star Bazaar)\n",
      "* **Financial Services:** Tata Capital, Tata AIA Life Insurance\n",
      "\n",
      "This list is not exhaustive, but it highlights the breadth of the group's operations.  Each of these companies operates independently, but benefits from the Tata brand's reputation and potential synergies within the group.\n",
      "\n",
      "**4. Global Presence:**\n",
      "\n",
      "The Tata Group is a significant player on the global stage, with operations and subsidiaries in numerous countries across Asia, Europe, North America, and Africa.  Jaguar Land Rover, for instance, significantly contributes to the group's international revenue.  This global reach reflects the group's ambition and its commitment to international markets.\n",
      "\n",
      "**5. Corporate Social Responsibility (CSR):**\n",
      "\n",
      "CSR is deeply ingrained in the Tata Group's ethos.  The trusts mentioned earlier play a crucial role in allocating resources to various social causes, including education, healthcare, and rural development.  This commitment to social responsibility is a defining characteristic of the group and contributes to its positive brand image.\n",
      "\n",
      "**6. Leadership and Governance:**\n",
      "\n",
      "The Tata Group has a history of strong leadership, with prominent figures like Jamsetji Tata, J.R.D. Tata, and Ratan Tata shaping its trajectory.  The group's governance structure emphasizes transparency and accountability, though it has faced challenges and controversies in recent years, particularly regarding succession planning and internal disputes.\n",
      "\n",
      "**7. Challenges and Future Outlook:**\n",
      "\n",
      "Despite its success, the Tata Group faces challenges, including:\n",
      "\n",
      "* **Competition:** Intense competition in various sectors necessitates continuous innovation and adaptation.\n",
      "* **Economic fluctuations:** Global economic downturns can impact the group's performance.\n",
      "* **Technological disruption:**  The need to embrace and adapt to rapid technological advancements is crucial for sustained growth.\n",
      "* **Maintaining its brand reputation:**  Protecting its brand image and upholding its ethical standards remains a priority.\n",
      "\n",
      "\n",
      "The Tata Group's future depends on its ability to navigate these challenges while continuing to innovate, expand into new markets, and remain true to its founding principles.  Its vast scale, diverse portfolio, and strong brand recognition position it for continued success, but its intricate structure and internal dynamics will continue to require careful management.\n",
      "\n",
      "\n",
      "here is output from LLM_Output_Token_Counter\n",
      "_______\n",
      "total token number in the generated answer is 669\n",
      "\n",
      "\n"
     ]
    }
   ],
   "source": [
    "for output in app2.stream(\"tell me about the tata enterpirse in very detail.\"):\n",
    "    for key,value in output.items():\n",
    "        print(f\"here is output from {key}\")\n",
    "        print(\"_______\")\n",
    "        print(value)\n",
    "        print(\"\\n\")"
   ]
  },
  {
   "cell_type": "code",
   "execution_count": 73,
   "id": "0c234360",
   "metadata": {},
   "outputs": [
    {
     "name": "stdout",
     "output_type": "stream",
     "text": [
      "here is output from \n",
      "\n",
      "My_LLM_1\n",
      "_______\n",
      "## Order Creation Process: Technical Design Document\n",
      "\n",
      "**1. Introduction**\n",
      "\n",
      "This document outlines the technical design for the order creation process within [System Name].  It details the system architecture, data flow, API interactions, and key components involved in creating and managing customer orders.  The design prioritizes scalability, reliability, and maintainability.\n",
      "\n",
      "**2. Goals**\n",
      "\n",
      "* Provide a robust and efficient order creation process.\n",
      "* Ensure data integrity and consistency across the system.\n",
      "* Support various order types and complexities.\n",
      "* Integrate seamlessly with existing systems (e.g., inventory management, payment gateway).\n",
      "* Allow for easy scalability to handle increasing order volume.\n",
      "\n",
      "**3. System Architecture**\n",
      "\n",
      "The order creation process utilizes a microservices architecture, with distinct services responsible for specific functionalities.  Key services include:\n",
      "\n",
      "* **Order Service:** The core service responsible for creating, updating, and retrieving order information.  This service manages the order lifecycle and interacts with other services.\n",
      "* **Inventory Service:** Manages inventory levels and checks for product availability before order confirmation.\n",
      "* **Payment Gateway Integration Service:** Handles payment processing through a third-party payment gateway (e.g., Stripe, PayPal).\n",
      "* **Shipping Service:**  Manages shipping information and integrates with shipping carriers.\n",
      "* **Customer Service:** Retrieves customer information and validates addresses.\n",
      "* **Notification Service:** Sends order confirmations and updates via email and/or SMS.\n",
      "\n",
      "\n",
      "These services communicate via asynchronous message queues (e.g., Kafka, RabbitMQ) to ensure loose coupling and improved resilience.  A central API gateway manages requests and routes them to the appropriate services.\n",
      "\n",
      "**4. Data Flow**\n",
      "\n",
      "The following steps illustrate the data flow during order creation:\n",
      "\n",
      "1. **Order Initiation:** The customer initiates an order through the front-end application (web or mobile).\n",
      "2. **API Request:** The front-end application sends an order request to the API gateway.\n",
      "3. **Order Service:** The API gateway forwards the request to the Order Service. The Order Service validates the request data (e.g., customer ID, product IDs, quantities).\n",
      "4. **Inventory Check:** The Order Service calls the Inventory Service to check product availability.\n",
      "5. **Payment Processing:** If inventory is available, the Order Service calls the Payment Gateway Integration Service to initiate payment processing.\n",
      "6. **Order Confirmation:** Upon successful payment, the Order Service confirms the order and updates the order status.\n",
      "7. **Shipping Information:** The Order Service updates shipping information (if provided) and may interact with the Shipping Service.\n",
      "8. **Notification:** The Notification Service sends order confirmation emails/SMS to the customer.\n",
      "9. **Database Update:**  All services update their respective databases to reflect the order status and changes.\n",
      "\n",
      "\n",
      "**5. Technology Stack**\n",
      "\n",
      "* **Programming Languages:** Java, Python (or other suitable languages based on team expertise)\n",
      "* **Databases:** PostgreSQL (or other suitable relational database), potentially NoSQL database for caching\n",
      "* **Message Queue:** Kafka or RabbitMQ\n",
      "* **API Gateway:** Kong, Apigee (or other suitable API gateway)\n",
      "* **Cloud Platform:** AWS, Azure, GCP (or on-premise infrastructure)\n",
      "\n",
      "\n",
      "**6. API Specifications**\n",
      "\n",
      "Detailed API specifications (using OpenAPI/Swagger) will be provided separately, outlining request/response formats, endpoints, and authentication mechanisms.\n",
      "\n",
      "**7. Error Handling and Logging**\n",
      "\n",
      "Robust error handling mechanisms are implemented throughout the system.  Detailed logs are captured for debugging and monitoring purposes.  Error codes and messages are standardized for ease of troubleshooting.\n",
      "\n",
      "**8. Security Considerations**\n",
      "\n",
      "* **Authentication and Authorization:** Secure authentication mechanisms (e.g., OAuth 2.0, JWT) are used to protect sensitive data.  Authorization controls ensure that only authorized users can access and modify order information.\n",
      "* **Data Encryption:** Sensitive data (e.g., payment information) is encrypted both in transit and at rest.\n",
      "* **Input Validation:**  Input validation is performed at each stage to prevent injection attacks and ensure data integrity.\n",
      "\n",
      "\n",
      "**9. Scalability and Performance**\n",
      "\n",
      "The microservices architecture and asynchronous communication enable horizontal scalability.  Load balancing and caching mechanisms are implemented to optimize performance and handle peak loads.\n",
      "\n",
      "**10. Deployment**\n",
      "\n",
      "The system will be deployed using containerization (e.g., Docker, Kubernetes) for ease of deployment and management.  Continuous integration and continuous deployment (CI/CD) pipelines will be implemented for automated deployments.\n",
      "\n",
      "\n",
      "**11. Future Considerations**\n",
      "\n",
      "* Integration with CRM systems for enhanced customer relationship management.\n",
      "* Implementation of advanced analytics capabilities for order forecasting and optimization.\n",
      "* Support for additional payment gateways and shipping carriers.\n",
      "\n",
      "\n",
      "This document provides a high-level overview of the order creation process technical design.  Further detailed design specifications will be provided in subsequent documents.\n",
      "\n",
      "\n",
      "here is output from \n",
      "\n",
      "LLM_Output_Token_Counter\n",
      "_______\n",
      "total token number in the generated answer is 687\n",
      "\n",
      "\n"
     ]
    }
   ],
   "source": [
    "for output in app2.stream(\"As a Functional Expert - write a Order Creation Process Technical Design Document\"):\n",
    "    for key,value in output.items():\n",
    "        print(f\"here is output from \\n\\n{key}\")\n",
    "        print(\"_______\")\n",
    "        print(value)\n",
    "        print(\"\\n\")"
   ]
  }
 ],
 "metadata": {
  "kernelspec": {
   "display_name": "vagenticai",
   "language": "python",
   "name": "python3"
  },
  "language_info": {
   "codemirror_mode": {
    "name": "ipython",
    "version": 3
   },
   "file_extension": ".py",
   "mimetype": "text/x-python",
   "name": "python",
   "nbconvert_exporter": "python",
   "pygments_lexer": "ipython3",
   "version": "3.13.2"
  }
 },
 "nbformat": 4,
 "nbformat_minor": 5
}
