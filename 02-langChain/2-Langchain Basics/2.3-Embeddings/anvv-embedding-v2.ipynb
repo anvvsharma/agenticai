{
 "cells": [
  {
   "cell_type": "markdown",
   "id": "45a36947",
   "metadata": {},
   "source": [
    "## Embeddings Techniques\n"
   ]
  },
  {
   "cell_type": "markdown",
   "id": "efe076b3",
   "metadata": {},
   "source": [
    "### Convert Text Into Videos"
   ]
  },
  {
   "cell_type": "code",
   "execution_count": null,
   "id": "044da71d",
   "metadata": {},
   "outputs": [],
   "source": [
    "import os\n",
    "from dotenv import load_dotenv\n",
    "load_dotenv()\n",
    "os.environ[\"OPENAI_API_KEY\"]=os.getenv(\"OPENAI_API_KEY\")"
   ]
  },
  {
   "cell_type": "code",
   "execution_count": null,
   "id": "bb3d63fd",
   "metadata": {},
   "outputs": [],
   "source": [
    "from langchain_openai import OpenAIEmbeddings\n",
    "\n",
    "embeddings = OpenAIEmbeddings(model=\"text-embedding-3-large\")"
   ]
  }
 ],
 "metadata": {
  "kernelspec": {
   "display_name": "vagenticai",
   "language": "python",
   "name": "python3"
  },
  "language_info": {
   "name": "python",
   "version": "3.13.2"
  }
 },
 "nbformat": 4,
 "nbformat_minor": 5
}
