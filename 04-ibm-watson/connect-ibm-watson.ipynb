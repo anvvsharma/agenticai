{
 "cells": [
  {
   "cell_type": "code",
   "execution_count": 3,
   "id": "60d47626",
   "metadata": {},
   "outputs": [
    {
     "name": "stdout",
     "output_type": "stream",
     "text": [
      "Requirement already satisfied: langchain-ibm in /Users/anvvsharma/anvv/ws/agenticai/vagenticai/lib/python3.13/site-packages (0.3.12)\n",
      "Requirement already satisfied: ibm-watsonx-ai<2.0.0,>=1.3.18 in /Users/anvvsharma/anvv/ws/agenticai/vagenticai/lib/python3.13/site-packages (from langchain-ibm) (1.3.24)\n",
      "Requirement already satisfied: langchain-core<0.4.0,>=0.3.39 in /Users/anvvsharma/anvv/ws/agenticai/vagenticai/lib/python3.13/site-packages (from langchain-ibm) (0.3.65)\n",
      "Requirement already satisfied: requests in /Users/anvvsharma/anvv/ws/agenticai/vagenticai/lib/python3.13/site-packages (from ibm-watsonx-ai<2.0.0,>=1.3.18->langchain-ibm) (2.32.2)\n",
      "Requirement already satisfied: httpx<0.29,>=0.27 in /Users/anvvsharma/anvv/ws/agenticai/vagenticai/lib/python3.13/site-packages (from ibm-watsonx-ai<2.0.0,>=1.3.18->langchain-ibm) (0.28.1)\n",
      "Requirement already satisfied: urllib3 in /Users/anvvsharma/anvv/ws/agenticai/vagenticai/lib/python3.13/site-packages (from ibm-watsonx-ai<2.0.0,>=1.3.18->langchain-ibm) (2.4.0)\n",
      "Requirement already satisfied: pandas<2.3.0,>=0.24.2 in /Users/anvvsharma/anvv/ws/agenticai/vagenticai/lib/python3.13/site-packages (from ibm-watsonx-ai<2.0.0,>=1.3.18->langchain-ibm) (2.2.3)\n",
      "Requirement already satisfied: certifi in /Users/anvvsharma/anvv/ws/agenticai/vagenticai/lib/python3.13/site-packages (from ibm-watsonx-ai<2.0.0,>=1.3.18->langchain-ibm) (2025.4.26)\n",
      "Requirement already satisfied: lomond in /Users/anvvsharma/anvv/ws/agenticai/vagenticai/lib/python3.13/site-packages (from ibm-watsonx-ai<2.0.0,>=1.3.18->langchain-ibm) (0.3.3)\n",
      "Requirement already satisfied: tabulate in /Users/anvvsharma/anvv/ws/agenticai/vagenticai/lib/python3.13/site-packages (from ibm-watsonx-ai<2.0.0,>=1.3.18->langchain-ibm) (0.9.0)\n",
      "Requirement already satisfied: packaging in /Users/anvvsharma/anvv/ws/agenticai/vagenticai/lib/python3.13/site-packages (from ibm-watsonx-ai<2.0.0,>=1.3.18->langchain-ibm) (24.2)\n",
      "Requirement already satisfied: ibm-cos-sdk<2.15.0,>=2.12.0 in /Users/anvvsharma/anvv/ws/agenticai/vagenticai/lib/python3.13/site-packages (from ibm-watsonx-ai<2.0.0,>=1.3.18->langchain-ibm) (2.14.1)\n",
      "Requirement already satisfied: langsmith<0.4,>=0.3.45 in /Users/anvvsharma/anvv/ws/agenticai/vagenticai/lib/python3.13/site-packages (from langchain-core<0.4.0,>=0.3.39->langchain-ibm) (0.3.45)\n",
      "Requirement already satisfied: tenacity!=8.4.0,<10.0.0,>=8.1.0 in /Users/anvvsharma/anvv/ws/agenticai/vagenticai/lib/python3.13/site-packages (from langchain-core<0.4.0,>=0.3.39->langchain-ibm) (9.1.2)\n",
      "Requirement already satisfied: jsonpatch<2.0,>=1.33 in /Users/anvvsharma/anvv/ws/agenticai/vagenticai/lib/python3.13/site-packages (from langchain-core<0.4.0,>=0.3.39->langchain-ibm) (1.33)\n",
      "Requirement already satisfied: PyYAML>=5.3 in /Users/anvvsharma/anvv/ws/agenticai/vagenticai/lib/python3.13/site-packages (from langchain-core<0.4.0,>=0.3.39->langchain-ibm) (6.0.2)\n",
      "Requirement already satisfied: typing-extensions>=4.7 in /Users/anvvsharma/anvv/ws/agenticai/vagenticai/lib/python3.13/site-packages (from langchain-core<0.4.0,>=0.3.39->langchain-ibm) (4.13.2)\n",
      "Requirement already satisfied: pydantic>=2.7.4 in /Users/anvvsharma/anvv/ws/agenticai/vagenticai/lib/python3.13/site-packages (from langchain-core<0.4.0,>=0.3.39->langchain-ibm) (2.11.5)\n",
      "Requirement already satisfied: anyio in /Users/anvvsharma/anvv/ws/agenticai/vagenticai/lib/python3.13/site-packages (from httpx<0.29,>=0.27->ibm-watsonx-ai<2.0.0,>=1.3.18->langchain-ibm) (4.9.0)\n",
      "Requirement already satisfied: httpcore==1.* in /Users/anvvsharma/anvv/ws/agenticai/vagenticai/lib/python3.13/site-packages (from httpx<0.29,>=0.27->ibm-watsonx-ai<2.0.0,>=1.3.18->langchain-ibm) (1.0.9)\n",
      "Requirement already satisfied: idna in /Users/anvvsharma/anvv/ws/agenticai/vagenticai/lib/python3.13/site-packages (from httpx<0.29,>=0.27->ibm-watsonx-ai<2.0.0,>=1.3.18->langchain-ibm) (3.10)\n",
      "Requirement already satisfied: h11>=0.16 in /Users/anvvsharma/anvv/ws/agenticai/vagenticai/lib/python3.13/site-packages (from httpcore==1.*->httpx<0.29,>=0.27->ibm-watsonx-ai<2.0.0,>=1.3.18->langchain-ibm) (0.16.0)\n",
      "Requirement already satisfied: ibm-cos-sdk-core==2.14.1 in /Users/anvvsharma/anvv/ws/agenticai/vagenticai/lib/python3.13/site-packages (from ibm-cos-sdk<2.15.0,>=2.12.0->ibm-watsonx-ai<2.0.0,>=1.3.18->langchain-ibm) (2.14.1)\n",
      "Requirement already satisfied: ibm-cos-sdk-s3transfer==2.14.1 in /Users/anvvsharma/anvv/ws/agenticai/vagenticai/lib/python3.13/site-packages (from ibm-cos-sdk<2.15.0,>=2.12.0->ibm-watsonx-ai<2.0.0,>=1.3.18->langchain-ibm) (2.14.1)\n",
      "Requirement already satisfied: jmespath<=1.0.1,>=0.10.0 in /Users/anvvsharma/anvv/ws/agenticai/vagenticai/lib/python3.13/site-packages (from ibm-cos-sdk<2.15.0,>=2.12.0->ibm-watsonx-ai<2.0.0,>=1.3.18->langchain-ibm) (1.0.1)\n",
      "Requirement already satisfied: python-dateutil<3.0.0,>=2.9.0 in /Users/anvvsharma/anvv/ws/agenticai/vagenticai/lib/python3.13/site-packages (from ibm-cos-sdk-core==2.14.1->ibm-cos-sdk<2.15.0,>=2.12.0->ibm-watsonx-ai<2.0.0,>=1.3.18->langchain-ibm) (2.9.0.post0)\n",
      "Requirement already satisfied: jsonpointer>=1.9 in /Users/anvvsharma/anvv/ws/agenticai/vagenticai/lib/python3.13/site-packages (from jsonpatch<2.0,>=1.33->langchain-core<0.4.0,>=0.3.39->langchain-ibm) (3.0.0)\n",
      "Requirement already satisfied: orjson<4.0.0,>=3.9.14 in /Users/anvvsharma/anvv/ws/agenticai/vagenticai/lib/python3.13/site-packages (from langsmith<0.4,>=0.3.45->langchain-core<0.4.0,>=0.3.39->langchain-ibm) (3.10.18)\n",
      "Requirement already satisfied: requests-toolbelt<2.0.0,>=1.0.0 in /Users/anvvsharma/anvv/ws/agenticai/vagenticai/lib/python3.13/site-packages (from langsmith<0.4,>=0.3.45->langchain-core<0.4.0,>=0.3.39->langchain-ibm) (1.0.0)\n",
      "Requirement already satisfied: zstandard<0.24.0,>=0.23.0 in /Users/anvvsharma/anvv/ws/agenticai/vagenticai/lib/python3.13/site-packages (from langsmith<0.4,>=0.3.45->langchain-core<0.4.0,>=0.3.39->langchain-ibm) (0.23.0)\n",
      "Requirement already satisfied: numpy>=1.26.0 in /Users/anvvsharma/anvv/ws/agenticai/vagenticai/lib/python3.13/site-packages (from pandas<2.3.0,>=0.24.2->ibm-watsonx-ai<2.0.0,>=1.3.18->langchain-ibm) (2.2.6)\n",
      "Requirement already satisfied: pytz>=2020.1 in /Users/anvvsharma/anvv/ws/agenticai/vagenticai/lib/python3.13/site-packages (from pandas<2.3.0,>=0.24.2->ibm-watsonx-ai<2.0.0,>=1.3.18->langchain-ibm) (2025.2)\n",
      "Requirement already satisfied: tzdata>=2022.7 in /Users/anvvsharma/anvv/ws/agenticai/vagenticai/lib/python3.13/site-packages (from pandas<2.3.0,>=0.24.2->ibm-watsonx-ai<2.0.0,>=1.3.18->langchain-ibm) (2025.2)\n",
      "Requirement already satisfied: annotated-types>=0.6.0 in /Users/anvvsharma/anvv/ws/agenticai/vagenticai/lib/python3.13/site-packages (from pydantic>=2.7.4->langchain-core<0.4.0,>=0.3.39->langchain-ibm) (0.7.0)\n",
      "Requirement already satisfied: pydantic-core==2.33.2 in /Users/anvvsharma/anvv/ws/agenticai/vagenticai/lib/python3.13/site-packages (from pydantic>=2.7.4->langchain-core<0.4.0,>=0.3.39->langchain-ibm) (2.33.2)\n",
      "Requirement already satisfied: typing-inspection>=0.4.0 in /Users/anvvsharma/anvv/ws/agenticai/vagenticai/lib/python3.13/site-packages (from pydantic>=2.7.4->langchain-core<0.4.0,>=0.3.39->langchain-ibm) (0.4.1)\n",
      "Requirement already satisfied: charset-normalizer<4,>=2 in /Users/anvvsharma/anvv/ws/agenticai/vagenticai/lib/python3.13/site-packages (from requests->ibm-watsonx-ai<2.0.0,>=1.3.18->langchain-ibm) (3.4.2)\n",
      "Requirement already satisfied: six>=1.10.0 in /Users/anvvsharma/anvv/ws/agenticai/vagenticai/lib/python3.13/site-packages (from lomond->ibm-watsonx-ai<2.0.0,>=1.3.18->langchain-ibm) (1.17.0)\n",
      "Requirement already satisfied: sniffio>=1.1 in /Users/anvvsharma/anvv/ws/agenticai/vagenticai/lib/python3.13/site-packages (from anyio->httpx<0.29,>=0.27->ibm-watsonx-ai<2.0.0,>=1.3.18->langchain-ibm) (1.3.1)\n",
      "\n",
      "\u001b[1m[\u001b[0m\u001b[34;49mnotice\u001b[0m\u001b[1;39;49m]\u001b[0m\u001b[39;49m A new release of pip is available: \u001b[0m\u001b[31;49m24.3.1\u001b[0m\u001b[39;49m -> \u001b[0m\u001b[32;49m25.1.1\u001b[0m\n",
      "\u001b[1m[\u001b[0m\u001b[34;49mnotice\u001b[0m\u001b[1;39;49m]\u001b[0m\u001b[39;49m To update, run: \u001b[0m\u001b[32;49mpip install --upgrade pip\u001b[0m\n",
      "Note: you may need to restart the kernel to use updated packages.\n"
     ]
    }
   ],
   "source": [
    "pip install langchain-ibm"
   ]
  },
  {
   "cell_type": "code",
   "execution_count": null,
   "id": "05fa61de",
   "metadata": {},
   "outputs": [],
   "source": [
    "import getpass\n",
    "import os\n",
    "from langchain_ibm import WatsonxEmbeddings\n",
    "\n",
    "if not os.environ.get(\"WATSONX_APIKEY\"):\n",
    "  os.environ[\"WATSONX_APIKEY\"] = getpass.getpass(\"ApiKey-e609be98-cb47-4dd0-8d3f-6acd6236dafb\")\n",
    "\n",
    "embeddings = WatsonxEmbeddings(\n",
    "    model_id=\"ibm/slate-125m-english-rtrvr\",\n",
    "    url=\"https://us-south.ml.cloud.ibm.com\",\n",
    "    project_id=\"veera_llm\",\n",
    ")"
   ]
  },
  {
   "cell_type": "code",
   "execution_count": null,
   "id": "2d4a75eb",
   "metadata": {},
   "outputs": [],
   "source": [
    "embeddings"
   ]
  }
 ],
 "metadata": {
  "kernelspec": {
   "display_name": "vagenticai",
   "language": "python",
   "name": "python3"
  },
  "language_info": {
   "codemirror_mode": {
    "name": "ipython",
    "version": 3
   },
   "file_extension": ".py",
   "mimetype": "text/x-python",
   "name": "python",
   "nbconvert_exporter": "python",
   "pygments_lexer": "ipython3",
   "version": "3.13.2"
  }
 },
 "nbformat": 4,
 "nbformat_minor": 5
}
