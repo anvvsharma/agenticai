{
 "cells": [
  {
   "cell_type": "code",
   "execution_count": null,
   "id": "dcd25161",
   "metadata": {},
   "outputs": [],
   "source": [
    "pip install ibm-watsonx-ai"
   ]
  },
  {
   "cell_type": "code",
   "execution_count": null,
   "id": "fb816d31",
   "metadata": {},
   "outputs": [],
   "source": [
    "from ibm_watsonx_ai import APIClient\n",
    "from ibm_watsonx_ai import Credentials\n",
    "from ibm_watsonx_ai.foundation_models import ModelInference\n"
   ]
  },
  {
   "cell_type": "code",
   "execution_count": 19,
   "id": "9a5ad754",
   "metadata": {},
   "outputs": [
    {
     "data": {
      "text/plain": [
       "True"
      ]
     },
     "execution_count": 19,
     "metadata": {},
     "output_type": "execute_result"
    }
   ],
   "source": [
    "import os\n",
    "from dotenv import load_dotenv\n",
    "import pprint\n",
    "load_dotenv()"
   ]
  },
  {
   "cell_type": "code",
   "execution_count": 15,
   "id": "e50c0fcf",
   "metadata": {},
   "outputs": [
    {
     "data": {
      "text/plain": [
       "<ibm_watsonx_ai.client.APIClient at 0x228b41e7ed0>"
      ]
     },
     "execution_count": 15,
     "metadata": {},
     "output_type": "execute_result"
    }
   ],
   "source": [
    "credentials = Credentials(\n",
    "    url=os.getenv(\"WATSONX_URL\"), \n",
    "    api_key = os.getenv(\"WATSONX_APIKEY\"),\n",
    ")\n",
    "client = APIClient(credentials)\n",
    "client"
   ]
  },
  {
   "cell_type": "code",
   "execution_count": 21,
   "id": "be38ff84",
   "metadata": {},
   "outputs": [
    {
     "name": "stdout",
     "output_type": "stream",
     "text": [
      "{'created_at': '2025-06-17T14:07:29.175Z',\n",
      " 'model_id': 'ibm/granite-13b-instruct-v2',\n",
      " 'results': [{'generated_text': 'Indian cities are well connected by flights '\n",
      "                                'to Paris. The flight duration is about 8 '\n",
      "                                'hours. ',\n",
      "              'generated_token_count': 20,\n",
      "              'input_token_count': 8,\n",
      "              'stop_reason': 'eos_token'}],\n",
      " 'system': {'warnings': [{'id': 'api_deprecation',\n",
      "                          'message': 'This API is deprecated. Please use '\n",
      "                                     \"'/text/chat' instead.\"}]}}\n",
      "('Indian cities are well connected by flights to Paris. The flight duration is '\n",
      " 'about 8 hours. ')\n"
     ]
    }
   ],
   "source": [
    "model = ModelInference(\n",
    "  model_id=\"ibm/granite-13b-instruct-v2\",\n",
    "  api_client=client,\n",
    "  project_id = os.getenv(\"WATSONX_IBM_PRJ_ID\"),\n",
    "  params = {\n",
    "      \"max_new_tokens\": 100\n",
    "  }\n",
    ")\n",
    "prompt = 'How far is Paris from Bangalore?'\n",
    "\n",
    "pprint.pprint(model.generate(prompt))\n",
    "\n",
    "pprint.pprint(model.generate_text(prompt))"
   ]
  }
 ],
 "metadata": {
  "kernelspec": {
   "display_name": "vagenticai",
   "language": "python",
   "name": "python3"
  },
  "language_info": {
   "codemirror_mode": {
    "name": "ipython",
    "version": 3
   },
   "file_extension": ".py",
   "mimetype": "text/x-python",
   "name": "python",
   "nbconvert_exporter": "python",
   "pygments_lexer": "ipython3",
   "version": "3.13.5"
  }
 },
 "nbformat": 4,
 "nbformat_minor": 5
}
