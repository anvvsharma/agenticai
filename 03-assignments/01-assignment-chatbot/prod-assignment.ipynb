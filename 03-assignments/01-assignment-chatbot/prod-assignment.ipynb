{
 "cells": [
  {
   "cell_type": "markdown",
   "id": "c4b058be",
   "metadata": {},
   "source": [
    "#### Pydantic Basics: Creating and Using Models\n",
    "Pydantic models are the foundation of data validation in Python. They use Python type annotations to define the structure and validate data at runtime. Here's a detailed exploration of basic model creation with several examples.\n",
    "\n"
   ]
  },
  {
   "cell_type": "code",
   "execution_count": null,
   "id": "4b0e9d87",
   "metadata": {},
   "outputs": [],
   "source": [
    "# Imports\n",
    "# pip install BaseModel\n",
    "# pip install langchain_core\n"
   ]
  },
  {
   "cell_type": "code",
   "execution_count": null,
   "id": "29e3e8be",
   "metadata": {},
   "outputs": [],
   "source": [
    "\n",
    "pip install python-dotenv"
   ]
  },
  {
   "cell_type": "code",
   "execution_count": 98,
   "id": "0d269075",
   "metadata": {},
   "outputs": [
    {
     "name": "stdout",
     "output_type": "stream",
     "text": [
      "**Welcome to Samsung Galaxy S Series Ultra**\n",
      "\n",
      "We have an exciting lineup of Samsung Galaxy S Ultra models, packed with advanced features and cutting-edge technology. Here are the available models:\n",
      "\n",
      "```json\n",
      "{\n",
      "  \"products\": [\n",
      "    {\n",
      "      \"Product_Name\": \"Samsung Galaxy S22 Ultra\",\n",
      "      \"Model_Descripion\": \"Experience next-level performance with the S22 Ultra's 6.8-inch Dynamic AMOLED 2X display, up to 16GB RAM, and 5000mAh battery.\",\n",
      "      \"Price_in_USD\": 899\n",
      "    },\n",
      "    {\n",
      "      \"Product_Name\": \"Samsung Galaxy S21 Ultra\",\n",
      "      \"Model_Descripion\": \"Get ready for the ultimate smartphone experience with the S21 Ultra's 6.8-inch Dynamic AMOLED display, up to 16GB RAM, and 5000mAh battery.\",\n",
      "      \"Price_in_USD\": 849\n",
      "    },\n",
      "    {\n",
      "      \"Product_Name\": \"Samsung Galaxy S20 Ultra\",\n",
      "      \"Model_Descripion\": \"Unlock new possibilities with the S20 Ultra's 6.8-inch Dynamic AMOLED display, up to 16GB RAM, and 5000mAh battery.\",\n",
      "      \"Price_in_USD\": 799\n",
      "    }\n",
      "  ]\n",
      "}\n",
      "```\n",
      "\n",
      "**Detailed Viewpoint:**\n",
      "\n",
      "1. **Samsung Galaxy S22 Ultra**\n",
      "\t* Display: 6.8-inch Dynamic AMOLED 2X display\n",
      "\t* Performance: Up to 16GB RAM and 2.9GHz Octa-Core processor\n",
      "\t* Battery: 5000mAh battery with 45W fast charging\n",
      "\t* Camera: 108MP primary camera, 40MP front camera\n",
      "\t* Storage: Up to 512GB internal storage\n",
      "\t* Price: $899\n",
      "2. **Samsung Galaxy S21 Ultra**\n",
      "\t* Display: 6.8-inch Dynamic AMOLED display\n",
      "\t* Performance: Up to 16GB RAM and 2.9GHz Octa-Core processor\n",
      "\t* Battery: 5000mAh battery with 25W fast charging\n",
      "\t* Camera: 108MP primary camera, 40MP front camera\n",
      "\t* Storage: Up to 512GB internal storage\n",
      "\t* Price: $849\n",
      "3. **Samsung Galaxy S20 Ultra**\n",
      "\t* Display: 6.8-inch Dynamic AMOLED display\n",
      "\t* Performance: Up to 16GB RAM and 2.7GHz Octa-Core processor\n",
      "\t* Battery: 5000mAh battery with 45W fast charging\n",
      "\t* Camera: 108MP primary camera, 40MP front camera\n",
      "\t* Storage: Up to 512GB internal storage\n",
      "\t* Price: $799\n",
      "\n",
      "Which Samsung Galaxy S Ultra model are you interested in?\n"
     ]
    }
   ],
   "source": [
    "import os\n",
    "from pydantic import BaseModel, Field\n",
    "from typing import List\n",
    "from langchain_core.output_parsers import JsonOutputParser\n",
    "from langchain_core.prompts import PromptTemplate\n",
    "from dotenv import load_dotenv\n",
    "from groq import Groq\n",
    "from langchain_groq import ChatGroq\n",
    "from IPython.display import Markdown\n",
    "\n",
    "class Product(BaseModel):\n",
    "    Product_Name: str = Field(description = \"Product Name\")\n",
    "    Model_Descripion: str = Field(description = \"Product Description\")\n",
    "    Price_in_USD: int = Field(description = \"Product Description\")\n",
    "\n",
    "class ProductList(BaseModel):\n",
    "    products: List[Product]\n",
    "    \n",
    "load_dotenv()\n",
    "\n",
    "groq_api_key = os.getenv(\"GROQ_API_KEY\")\n",
    "\n",
    "if not groq_api_key:\n",
    "    raise ValueError(\"GROQ_API_KEY environment variable not set.\")\n",
    "\n",
    "# Initialize LangChain ChatGroq\n",
    "llm = ChatGroq(\n",
    "    api_key=groq_api_key,\n",
    "    model=\"llama-3.1-8b-instant\",\n",
    "    temperature=0.7\n",
    ")\n",
    "\n",
    "# parser = JsonOutputParser(pydantic_object=Products)\n",
    "parser = JsonOutputParser(pydantic_object=ProductList)\n",
    "format = parser.get_format_instructions()\n",
    "\n",
    "prompt_template = PromptTemplate(\n",
    "    template = \"\"\" You are an export Mobile Sales Agent, very weill versed in all latest variants of mobles. Please Answer customer query and \n",
    "    give detailed viewpoint about the product requested. \\n\n",
    "    List all the available models of the brand requested.\n",
    "    {format_instruction} \\n \n",
    "    {query} \\n \"\"\",\n",
    "    input_variables = [\"query\", \"format_instruction\"],\n",
    "    #partial_variables = {\"format_instruction:\", format},\n",
    ")\n",
    "\n",
    "chain = prompt_template | llm\n",
    "\n",
    "response = chain.invoke({\"format_instruction\": format, \"query\": \"Samsung Galaxy S** Ultra\"})\n",
    "#Markdown(response.content)\n",
    "print(response.content)\n"
   ]
  },
  {
   "cell_type": "code",
   "execution_count": 89,
   "id": "bd1fd353",
   "metadata": {},
   "outputs": [
    {
     "name": "stdout",
     "output_type": "stream",
     "text": [
      "Document 1:\n",
      "('content', 'As an export Mobile Sales Agent, I\\'d be happy to assist you with your query about iPhone models.\\n\\nHere are the available iPhone models, listed in JSON format as per the provided schema:\\n\\n```json\\n{\\n  \"Product_Name\": [\"iPhone 14\", \"iPhone 14 Plus\", \"iPhone 14 Pro\", \"iPhone 14 Pro Max\"],\\n  \"Model_Descripion\": [\\n    \"The iPhone 14 features a 6.1-inch Super Retina HD display, A15 Bionic chip, and a dual-camera setup.\",\\n    \"The iPhone 14 Plus features a 6.7-inch Super Retina HD display, A15 Bionic chip, and a dual-camera setup.\",\\n    \"The iPhone 14 Pro features a 6.1-inch Super Retina XDR display, A16 Bionic chip, and a triple-camera setup.\",\\n    \"The iPhone 14 Pro Max features a 6.7-inch Super Retina XDR display, A16 Bionic chip, and a triple-camera setup.\"\\n  ],\\n  \"Price_in_USD\": [799, 899, 999, 1099]\\n}\\n```\\n\\nHere\\'s a brief description of each iPhone model:\\n\\n1. **iPhone 14**: The iPhone 14 features a 6.1-inch Super Retina HD display, A15 Bionic chip, and a dual-camera setup. It starts at $799.\\n2. **iPhone 14 Plus**: The iPhone 14 Plus features a 6.7-inch Super Retina HD display, A15 Bionic chip, and a dual-camera setup. It starts at $899.\\n3. **iPhone 14 Pro**: The iPhone 14 Pro features a 6.1-inch Super Retina XDR display, A16 Bionic chip, and a triple-camera setup. It starts at $999.\\n4. **iPhone 14 Pro Max**: The iPhone 14 Pro Max features a 6.7-inch Super Retina XDR display, A16 Bionic chip, and a triple-camera setup. It starts at $1099.\\n\\nPlease note that prices may vary depending on your location and availability.')\n",
      "---------------\n",
      "Document 2:\n",
      "('additional_kwargs', {})\n",
      "---------------\n",
      "Document 3:\n",
      "('response_metadata', {'token_usage': {'completion_tokens': 438, 'prompt_tokens': 313, 'total_tokens': 751, 'completion_time': 0.711413332, 'prompt_time': 0.029159451, 'queue_time': 0.16417725, 'total_time': 0.740572783}, 'model_name': 'llama-3.1-8b-instant', 'system_fingerprint': 'fp_a4265e44d5', 'finish_reason': 'stop', 'logprobs': None})\n",
      "---------------\n",
      "Document 4:\n",
      "('type', 'ai')\n",
      "---------------\n",
      "Document 5:\n",
      "('name', None)\n",
      "---------------\n",
      "Document 6:\n",
      "('id', 'run--dba45728-410c-4cc2-a626-8724d20f51da-0')\n",
      "---------------\n",
      "Document 7:\n",
      "('example', False)\n",
      "---------------\n",
      "Document 8:\n",
      "('tool_calls', [])\n",
      "---------------\n",
      "Document 9:\n",
      "('invalid_tool_calls', [])\n",
      "---------------\n",
      "Document 10:\n",
      "('usage_metadata', {'input_tokens': 313, 'output_tokens': 438, 'total_tokens': 751})\n",
      "---------------\n"
     ]
    }
   ],
   "source": [
    "for idx, resp in enumerate(response):\n",
    " print(f\"Document {idx+1}:\")\n",
    " print(resp)\n",
    " print(\"---------------\")"
   ]
  }
 ],
 "metadata": {
  "kernelspec": {
   "display_name": "vagenticai",
   "language": "python",
   "name": "python3"
  },
  "language_info": {
   "codemirror_mode": {
    "name": "ipython",
    "version": 3
   },
   "file_extension": ".py",
   "mimetype": "text/x-python",
   "name": "python",
   "nbconvert_exporter": "python",
   "pygments_lexer": "ipython3",
   "version": "3.13.2"
  }
 },
 "nbformat": 4,
 "nbformat_minor": 5
}
