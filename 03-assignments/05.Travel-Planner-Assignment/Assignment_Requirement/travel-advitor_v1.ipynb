{
 "cells": [
  {
   "cell_type": "code",
   "execution_count": null,
   "id": "cbf96b7e",
   "metadata": {},
   "outputs": [],
   "source": [
    "pip install duckduckgo_search langchain_groq sentence_transformers faiss-cpu pydantic python-dotenv pypdf bs4 langchain langchain_core langchain-community langchain_huggingface langchain_google_genai langchain-pinecone langgraph langchain-openai langchain_groq langchain_google_genai google-generativeai  pymupdf wikipedia arxiv defusedxml  youtube_search langchain-tavily langgraph chromadb\n"
   ]
  },
  {
   "cell_type": "code",
   "execution_count": 13,
   "id": "37c89a06",
   "metadata": {},
   "outputs": [
    {
     "data": {
      "text/plain": [
       "True"
      ]
     },
     "execution_count": 13,
     "metadata": {},
     "output_type": "execute_result"
    }
   ],
   "source": [
    "#### import\n",
    "import os\n",
    "import pprint\n",
    "from dotenv import load_dotenv\n",
    "from langgraph.graph import Graph\n",
    "from IPython.display import Image, display\n",
    "load_dotenv()\n"
   ]
  },
  {
   "cell_type": "code",
   "execution_count": 14,
   "id": "6025c349",
   "metadata": {},
   "outputs": [
    {
     "name": "stdout",
     "output_type": "stream",
     "text": [
      "'<think>\\n\\n</think>\\n\\nHello! How can I assist you today? 😊'\n"
     ]
    }
   ],
   "source": [
    "### Configure the Model\n",
    "from langchain_groq import ChatGroq\n",
    "model = ChatGroq(model=\"deepseek-r1-distill-llama-70b\")\n",
    "query = \"Hi\"\n",
    "response = model.invoke(query)\n",
    "pprint.pprint(response.content)\n",
    "\n"
   ]
  },
  {
   "cell_type": "code",
   "execution_count": 15,
   "id": "385982e1",
   "metadata": {},
   "outputs": [
    {
     "data": {
      "text/plain": [
       "384"
      ]
     },
     "execution_count": 15,
     "metadata": {},
     "output_type": "execute_result"
    }
   ],
   "source": [
    "### Configure the Embedding\n",
    "from langchain_huggingface import HuggingFaceEmbeddings\n",
    "embeddings = HuggingFaceEmbeddings(model_name=\"BAAI/bge-small-en\")\n",
    "embed_query = embeddings.embed_query(query)\n",
    "len(embed_query)\n"
   ]
  },
  {
   "cell_type": "code",
   "execution_count": 16,
   "id": "96d9f0c6",
   "metadata": {},
   "outputs": [],
   "source": [
    "# Lets take a Data embedd it and store in Vector Database\n",
    "##### Imports\n",
    "import requests\n",
    "from langchain_community.document_loaders import TextLoader, DirectoryLoader\n",
    "from langchain_community.vectorstores import Chroma\n",
    "from langchain.text_splitter import RecursiveCharacterTextSplitter\n",
    "import operator\n",
    "from langchain_core.tools import tool\n",
    "from langchain.tools import tool\n",
    "from typing import List\n",
    "from pydantic import BaseModel , Field\n",
    "from langchain.prompts import PromptTemplate\n",
    "from typing import TypedDict, Annotated, Sequence\n",
    "from langchain_core.messages import BaseMessage\n",
    "from langchain_core.output_parsers import StrOutputParser\n",
    "from langchain_core.prompts import ChatPromptTemplate, PromptTemplate\n",
    "from langchain_core.runnables import RunnablePassthrough\n",
    "from langchain_core.messages import HumanMessage, AIMessage\n",
    "from langchain_core.messages import HumanMessage, SystemMessage\n",
    "from langgraph.graph import StateGraph,END,MessagesState,START\n",
    "from langgraph.prebuilt import ToolNode"
   ]
  },
  {
   "cell_type": "code",
   "execution_count": 17,
   "id": "85539ed8",
   "metadata": {},
   "outputs": [],
   "source": [
    "# Travel Agent Tool\n",
    "from langchain.tools import tool\n",
    "from langchain_community.tools import DuckDuckGoSearchRun\n",
    "import re\n",
    "\n",
    "weather_api_key = os.getenv(\"WEATHER_API_KEY\")\n",
    "\n",
    "class TravelAgent:\n",
    "    \"\"\"Handles general travel planning queries.\"\"\"\n",
    "    @tool\n",
    "    def travel_agent(query:str) -> str:\n",
    "        \"\"\"Handles general travel planning queries.\"\"\"\n",
    "        return f\"Travel Agent : I can help plan your trip. You asked : {query} \"\n",
    "    \n",
    "class WeatherAgent:\n",
    "    \n",
    "    def __init__(self, api_key):\n",
    "        \n",
    "        self.api_key = api_key\n",
    "        self.base_url = \"https://api.openweathermap.org/data/2.5/weather\"\n",
    "        \n",
    "    \n",
    "    def get_weather_city(self, city: str) -> str:\n",
    "        \"\"\"Provides weather information for a city.\"\"\"\n",
    "        \n",
    "        params = {\n",
    "        \"q\" : city,\n",
    "        \"appid\" : self.api_key\n",
    "        }\n",
    "        response = requests.get(self.base_url, params=params)    \n",
    "        if response.status_code == 200:\n",
    "                \n",
    "            data = response.json()\n",
    "            weather_desc = data[\"weather\"][0][\"description\"]\n",
    "            temp = data[\"main\"][\"temp\"]\n",
    "            #humidity = data[\"main\"][\"humidity\"]\n",
    "            #wind_speed = data[\"wind\"][\"speed\"]\n",
    "            return {\n",
    "                \"city\": city,\n",
    "                \"description\": weather_desc,\n",
    "                \"temperature_celsius\": temp\n",
    "                #\"humidity\": humidity,\n",
    "                #\"wind_speed_m_s\": wind_speed\n",
    "            }\n",
    "        else:\n",
    "            return {\"error\": f\"Coold not retrieve weather data for {city}\"}\n",
    "        \n",
    "        return f\"Weather Agent: The Weather is {city} is sunny and {temperature_celsius}.\"\n",
    "                \n",
    "\n",
    "class AttrationAgent:\n",
    "    search = DuckDuckGoSearchRun()\n",
    "    @tool\n",
    "    def get_attraction_details(city: str) -> str:\n",
    "        \"\"\"Provides top attractions for a city.\"\"\"\n",
    "        city = city\n",
    "        query = f\"top 3 tourist attractions in {city}\"\n",
    "        results = AttrationAgent.search(query)\n",
    "        # Use regex to extract lines that look like \"1. Place Name\" or similar\n",
    "        place_names = re.findall(r'\\d+\\.\\s*([A-Za-z0-9\\s\\'\\-&]+)', results)\n",
    "        # Remove duplicates and strip whitespace\n",
    "        unique_places = []\n",
    "        for name in place_names:\n",
    "            clean_name = name.strip()\n",
    "            if clean_name and clean_name not in unique_places:\n",
    "                unique_places.append(clean_name)\n",
    "        # Take top 3\n",
    "        top_places = unique_places[:3]+\"::\"\n",
    "        if top_places:\n",
    "            return f\"Attraction Agent: The top 3 attractions in {city} are: {', '.join(top_places)}.\"\n",
    "        else:\n",
    "            return f\"Attraction Agent: Sorry, couldn't extract attractions for {city}.\"\n",
    "        \n",
    "    \n",
    "class CurrencyAgent:\n",
    "    @tool\n",
    "    def get_currency_exchange_rate(currency: str) -> str:\n",
    "        \"\"\"Provides currency exchange rates.\"\"\"\n",
    "        return f\"Currency Agent: The current exchange rate for {currency} is 1 {currency} = 1.2 USD.\"\n",
    "    \n",
    "search = DuckDuckGoSearchRun()\n",
    "# search.invoke(\"What is the latest update on iPhone 17 relase ?\")\n",
    "WeatherAgent = WeatherAgent(api_key=weather_api_key)\n",
    "\n",
    "# Register all agents/tools\n",
    "mytools = [\n",
    "    TravelAgent.travel_agent, \n",
    "    WeatherAgent.get_weather_city, \n",
    "    AttrationAgent.get_attraction_details, \n",
    "    CurrencyAgent.get_currency_exchange_rate, \n",
    "    search\n",
    "]\n",
    "\n",
    "llm_Trip_Agent = model.bind_tools(mytools)\n",
    "\n",
    "SYSTEM_PROMPT = (\n",
    "    \"You are a helpful Travel Planner Agent. \"\n",
    "    \"You can use the following agents: travel_agent, weather_agent, attraction_agent, currency_converter, search. \"\n",
    "    \"Route the user's query to the correct agent(s) and combine their responses as needed.\"\n",
    ")\n",
    "\n",
    "# Supervisor orchestrates the workflow\n",
    "\n",
    "    \n",
    "def supervisor(state:MessagesState):\n",
    "    USER_QUERY = state[\"messages\"]\n",
    "    INPUT_QUERY = [SYSTEM_PROMPT]+USER_QUERY\n",
    "\n",
    "    response = llm_Trip_Agent.invoke(INPUT_QUERY)\n",
    "\n",
    "    return {\n",
    "        \"messages\" : [response]\n",
    "    }\n"
   ]
  },
  {
   "cell_type": "code",
   "execution_count": 18,
   "id": "de82ca00",
   "metadata": {},
   "outputs": [
    {
     "data": {
      "image/png": "[encoded data removed]",
      "text/plain": [
       "<langgraph.graph.state.CompiledStateGraph object at 0x000002340CDBCF50>"
      ]
     },
     "execution_count": 18,
     "metadata": {},
     "output_type": "execute_result"
    }
   ],
   "source": [
    "\n",
    "# Build the workflow graph\n",
    "from langgraph.graph import StateGraph, END, START\n",
    "from langgraph.prebuilt import ToolNode, tools_condition\n",
    "\n",
    "from langgraph.prebuilt import ToolNode\n",
    "from langgraph.prebuilt import tools_condition\n",
    "from IPython.display import Image, display\n",
    "\n",
    "TravelAgent_workflow_builder = StateGraph(MessagesState)\n",
    "TravelAgent_workflow_builder.add_node(\"supervisor\", supervisor)\n",
    "TravelAgent_workflow_builder.add_node(\"tools\", ToolNode(mytools))\n",
    "TravelAgent_workflow_builder.add_edge(START, \"supervisor\")\n",
    "TravelAgent_workflow_builder.add_conditional_edges(\"supervisor\", tools_condition,)\n",
    "TravelAgent_workflow_builder.add_edge(\"tools\",\"supervisor\")\n",
    "## React and Action\n",
    "react_graph = TravelAgent_workflow_builder.compile()\n",
    "react_graph"
   ]
  },
  {
   "cell_type": "code",
   "execution_count": 19,
   "id": "6e996b00",
   "metadata": {},
   "outputs": [
    {
     "name": "stdout",
     "output_type": "stream",
     "text": [
      "================================\u001b[1m Human Message \u001b[0m=================================\n",
      "\n",
      "TravelAgent, what is the weather in Hyderabad and Attractions in Hyderabad and convert $20 to INR\n",
      "==================================\u001b[1m Ai Message \u001b[0m==================================\n",
      "Tool Calls:\n",
      "  get_weather_city (3k9hg35b9)\n",
      " Call ID: 3k9hg35b9\n",
      "  Args:\n",
      "    city: Hyderabad\n",
      "=================================\u001b[1m Tool Message \u001b[0m=================================\n",
      "Name: get_weather_city\n",
      "\n",
      "{\"city\": \"Hyderabad\", \"description\": \"overcast clouds\", \"temperature_celsius\": 299.63}\n",
      "==================================\u001b[1m Ai Message \u001b[0m==================================\n",
      "\n",
      "Here's the information you requested:\n",
      "\n",
      "**Weather in Hyderabad:**  \n",
      "- **City:** Hyderabad  \n",
      "- **Description:** Overcast clouds  \n",
      "- **Temperature:** 299.63°C (Note: This seems unusually high and might be in Kelvin. If converted to Celsius, it would be approximately 26.48°C.)\n",
      "\n",
      "**Top Attractions in Hyderabad:**  \n",
      "1. Charminar  \n",
      "2. Golconda Fort  \n",
      "3. Qutub Shahi Tombs  \n",
      "4. Salar Jung Museum  \n",
      "5. Chowmahalla Palace  \n",
      "\n",
      "**Currency Exchange:**  \n",
      "- **Currency:** USD  \n",
      "- **Exchange Rate:** 82.50 INR per USD  \n",
      "- **Conversion:** $20 USD = 1,650 INR  \n",
      "\n",
      "Let me know if you need further details!\n"
     ]
    }
   ],
   "source": [
    "message = [HumanMessage(content=\"TravelAgent, what is the weather in Hyderabad and Attractions in Hyderabad and convert $20 to INR\")]\n",
    "#message = [HumanMessage(content=\"What are the top attractions and weather in Hyderabad?\")]\n",
    "response = react_graph.invoke({\"messages\": message})\n",
    "#react_graph.compile()\n",
    "##### Final Answer \n",
    "for m in response[\"messages\"]:\n",
    "    m.pretty_print()\n",
    "\n"
   ]
  },
  {
   "cell_type": "code",
   "execution_count": 20,
   "id": "e2475adc",
   "metadata": {},
   "outputs": [],
   "source": [
    "message = [HumanMessage(content=\"TravelAgent, what is the weather in Hyderabad and Attractions in Hyderabad and convert $20 to INR\")]\n",
    "response = react_graph.invoke({\"messages\": message})\n",
    "\n"
   ]
  },
  {
   "cell_type": "code",
   "execution_count": 21,
   "id": "1af44976",
   "metadata": {},
   "outputs": [
    {
     "name": "stdout",
     "output_type": "stream",
     "text": [
      "================================\u001b[1m Human Message \u001b[0m=================================\n",
      "\n",
      "weather in hyderabad and convert $20 to INR\n",
      "==================================\u001b[1m Ai Message \u001b[0m==================================\n",
      "Tool Calls:\n",
      "  get_weather_city (gjxgqn602)\n",
      " Call ID: gjxgqn602\n",
      "  Args:\n",
      "    city: Hyderabad\n",
      "=================================\u001b[1m Tool Message \u001b[0m=================================\n",
      "Name: get_weather_city\n",
      "\n",
      "{\"city\": \"Hyderabad\", \"description\": \"overcast clouds\", \"temperature_celsius\": 299.63}\n",
      "==================================\u001b[1m Ai Message \u001b[0m==================================\n",
      "Tool Calls:\n",
      "  get_currency_exchange_rate (h9dc02697)\n",
      " Call ID: h9dc02697\n",
      "  Args:\n",
      "    currency: USD/INR\n",
      "=================================\u001b[1m Tool Message \u001b[0m=================================\n",
      "Name: get_currency_exchange_rate\n",
      "\n",
      "Currency Agent: The current exchange rate for USD/INR is 1 USD/INR = 1.2 USD.\n",
      "==================================\u001b[1m Ai Message \u001b[0m==================================\n",
      "\n",
      "In Hyderabad, the weather is overcast clouds with a temperature of 299.63°C. Additionally, \\$20 USD is equivalent to 24 INR based on the current exchange rate.\n"
     ]
    }
   ],
   "source": [
    "message = [HumanMessage(content=\"weather in hyderabad and convert $20 to INR\")]\n",
    "#message = [HumanMessage(content=\"What are the top attractions and weather in Hyderabad?\")]\n",
    "response = react_graph.invoke({\"messages\": message})\n",
    "#react_graph.compile()\n",
    "##### Final Answer \n",
    "for m in response[\"messages\"]:\n",
    "    m.pretty_print()\n"
   ]
  }
 ],
 "metadata": {
  "kernelspec": {
   "display_name": "vagenticai",
   "language": "python",
   "name": "python3"
  },
  "language_info": {
   "codemirror_mode": {
    "name": "ipython",
    "version": 3
   },
   "file_extension": ".py",
   "mimetype": "text/x-python",
   "name": "python",
   "nbconvert_exporter": "python",
   "pygments_lexer": "ipython3",
   "version": "3.13.5"
  }
 },
 "nbformat": 4,
 "nbformat_minor": 5
}
