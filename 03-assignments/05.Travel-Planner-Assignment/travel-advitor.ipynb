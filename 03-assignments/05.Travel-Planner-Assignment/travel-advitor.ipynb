{
 "cells": [
  {
   "cell_type": "code",
   "execution_count": 1,
   "id": "cbf96b7e",
   "metadata": {},
   "outputs": [
    {
     "name": "stdout",
     "output_type": "stream",
     "text": [
      "Requirement already satisfied: duckduckgo_search in /Users/anvvsharma/anvv/ws/agenticai/vagenticai/lib/python3.13/site-packages (8.0.4)\n",
      "Requirement already satisfied: langchain_groq in /Users/anvvsharma/anvv/ws/agenticai/vagenticai/lib/python3.13/site-packages (0.3.2)\n",
      "Requirement already satisfied: sentence_transformers in /Users/anvvsharma/anvv/ws/agenticai/vagenticai/lib/python3.13/site-packages (4.1.0)\n",
      "Requirement already satisfied: faiss-cpu in /Users/anvvsharma/anvv/ws/agenticai/vagenticai/lib/python3.13/site-packages (1.11.0)\n",
      "Requirement already satisfied: pydantic in /Users/anvvsharma/anvv/ws/agenticai/vagenticai/lib/python3.13/site-packages (2.11.5)\n",
      "Requirement already satisfied: python-dotenv in /Users/anvvsharma/anvv/ws/agenticai/vagenticai/lib/python3.13/site-packages (1.1.0)\n",
      "Requirement already satisfied: pypdf in /Users/anvvsharma/anvv/ws/agenticai/vagenticai/lib/python3.13/site-packages (5.5.0)\n",
      "Requirement already satisfied: bs4 in /Users/anvvsharma/anvv/ws/agenticai/vagenticai/lib/python3.13/site-packages (0.0.2)\n",
      "Requirement already satisfied: langchain in /Users/anvvsharma/anvv/ws/agenticai/vagenticai/lib/python3.13/site-packages (0.3.25)\n",
      "Requirement already satisfied: langchain_core in /Users/anvvsharma/anvv/ws/agenticai/vagenticai/lib/python3.13/site-packages (0.3.65)\n",
      "Requirement already satisfied: langchain-community in /Users/anvvsharma/anvv/ws/agenticai/vagenticai/lib/python3.13/site-packages (0.3.24)\n",
      "Requirement already satisfied: langchain_huggingface in /Users/anvvsharma/anvv/ws/agenticai/vagenticai/lib/python3.13/site-packages (0.2.0)\n",
      "Requirement already satisfied: langchain_google_genai in /Users/anvvsharma/anvv/ws/agenticai/vagenticai/lib/python3.13/site-packages (2.0.10)\n",
      "Requirement already satisfied: langchain-pinecone in /Users/anvvsharma/anvv/ws/agenticai/vagenticai/lib/python3.13/site-packages (0.2.8)\n",
      "Requirement already satisfied: langgraph in /Users/anvvsharma/anvv/ws/agenticai/vagenticai/lib/python3.13/site-packages (0.4.8)\n",
      "Requirement already satisfied: langchain-openai in /Users/anvvsharma/anvv/ws/agenticai/vagenticai/lib/python3.13/site-packages (0.3.18)\n",
      "Requirement already satisfied: google-generativeai in /Users/anvvsharma/anvv/ws/agenticai/vagenticai/lib/python3.13/site-packages (0.8.5)\n",
      "Requirement already satisfied: pymupdf in /Users/anvvsharma/anvv/ws/agenticai/vagenticai/lib/python3.13/site-packages (1.26.0)\n",
      "Requirement already satisfied: wikipedia in /Users/anvvsharma/anvv/ws/agenticai/vagenticai/lib/python3.13/site-packages (1.4.0)\n",
      "Requirement already satisfied: arxiv in /Users/anvvsharma/anvv/ws/agenticai/vagenticai/lib/python3.13/site-packages (2.2.0)\n",
      "Requirement already satisfied: defusedxml in /Users/anvvsharma/anvv/ws/agenticai/vagenticai/lib/python3.13/site-packages (0.7.1)\n",
      "Requirement already satisfied: youtube_search in /Users/anvvsharma/anvv/ws/agenticai/vagenticai/lib/python3.13/site-packages (2.1.2)\n",
      "Requirement already satisfied: langchain-tavily in /Users/anvvsharma/anvv/ws/agenticai/vagenticai/lib/python3.13/site-packages (0.2.2)\n",
      "Requirement already satisfied: chromadb in /Users/anvvsharma/anvv/ws/agenticai/vagenticai/lib/python3.13/site-packages (1.0.12)\n",
      "Requirement already satisfied: click>=8.1.8 in /Users/anvvsharma/anvv/ws/agenticai/vagenticai/lib/python3.13/site-packages (from duckduckgo_search) (8.2.1)\n",
      "Requirement already satisfied: primp>=0.15.0 in /Users/anvvsharma/anvv/ws/agenticai/vagenticai/lib/python3.13/site-packages (from duckduckgo_search) (0.15.0)\n",
      "Requirement already satisfied: lxml>=5.3.0 in /Users/anvvsharma/anvv/ws/agenticai/vagenticai/lib/python3.13/site-packages (from duckduckgo_search) (5.4.0)\n",
      "Requirement already satisfied: groq<1,>=0.4.1 in /Users/anvvsharma/anvv/ws/agenticai/vagenticai/lib/python3.13/site-packages (from langchain_groq) (0.25.0)\n",
      "Requirement already satisfied: transformers<5.0.0,>=4.41.0 in /Users/anvvsharma/anvv/ws/agenticai/vagenticai/lib/python3.13/site-packages (from sentence_transformers) (4.52.4)\n",
      "Requirement already satisfied: tqdm in /Users/anvvsharma/anvv/ws/agenticai/vagenticai/lib/python3.13/site-packages (from sentence_transformers) (4.67.1)\n",
      "Requirement already satisfied: torch>=1.11.0 in /Users/anvvsharma/anvv/ws/agenticai/vagenticai/lib/python3.13/site-packages (from sentence_transformers) (2.7.0)\n",
      "Requirement already satisfied: scikit-learn in /Users/anvvsharma/anvv/ws/agenticai/vagenticai/lib/python3.13/site-packages (from sentence_transformers) (1.6.1)\n",
      "Requirement already satisfied: scipy in /Users/anvvsharma/anvv/ws/agenticai/vagenticai/lib/python3.13/site-packages (from sentence_transformers) (1.15.3)\n",
      "Requirement already satisfied: huggingface-hub>=0.20.0 in /Users/anvvsharma/anvv/ws/agenticai/vagenticai/lib/python3.13/site-packages (from sentence_transformers) (0.32.3)\n",
      "Requirement already satisfied: Pillow in /Users/anvvsharma/anvv/ws/agenticai/vagenticai/lib/python3.13/site-packages (from sentence_transformers) (11.2.1)\n",
      "Requirement already satisfied: typing_extensions>=4.5.0 in /Users/anvvsharma/anvv/ws/agenticai/vagenticai/lib/python3.13/site-packages (from sentence_transformers) (4.13.2)\n",
      "Requirement already satisfied: numpy<3.0,>=1.25.0 in /Users/anvvsharma/anvv/ws/agenticai/vagenticai/lib/python3.13/site-packages (from faiss-cpu) (2.2.6)\n",
      "Requirement already satisfied: packaging in /Users/anvvsharma/anvv/ws/agenticai/vagenticai/lib/python3.13/site-packages (from faiss-cpu) (24.2)\n",
      "Requirement already satisfied: annotated-types>=0.6.0 in /Users/anvvsharma/anvv/ws/agenticai/vagenticai/lib/python3.13/site-packages (from pydantic) (0.7.0)\n",
      "Requirement already satisfied: pydantic-core==2.33.2 in /Users/anvvsharma/anvv/ws/agenticai/vagenticai/lib/python3.13/site-packages (from pydantic) (2.33.2)\n",
      "Requirement already satisfied: typing-inspection>=0.4.0 in /Users/anvvsharma/anvv/ws/agenticai/vagenticai/lib/python3.13/site-packages (from pydantic) (0.4.1)\n",
      "Requirement already satisfied: beautifulsoup4 in /Users/anvvsharma/anvv/ws/agenticai/vagenticai/lib/python3.13/site-packages (from bs4) (4.13.4)\n",
      "Requirement already satisfied: langchain-text-splitters<1.0.0,>=0.3.8 in /Users/anvvsharma/anvv/ws/agenticai/vagenticai/lib/python3.13/site-packages (from langchain) (0.3.8)\n",
      "Requirement already satisfied: langsmith<0.4,>=0.1.17 in /Users/anvvsharma/anvv/ws/agenticai/vagenticai/lib/python3.13/site-packages (from langchain) (0.3.45)\n",
      "Requirement already satisfied: SQLAlchemy<3,>=1.4 in /Users/anvvsharma/anvv/ws/agenticai/vagenticai/lib/python3.13/site-packages (from langchain) (2.0.41)\n",
      "Requirement already satisfied: requests<3,>=2 in /Users/anvvsharma/anvv/ws/agenticai/vagenticai/lib/python3.13/site-packages (from langchain) (2.32.2)\n",
      "Requirement already satisfied: PyYAML>=5.3 in /Users/anvvsharma/anvv/ws/agenticai/vagenticai/lib/python3.13/site-packages (from langchain) (6.0.2)\n",
      "Requirement already satisfied: tenacity!=8.4.0,<10.0.0,>=8.1.0 in /Users/anvvsharma/anvv/ws/agenticai/vagenticai/lib/python3.13/site-packages (from langchain_core) (9.1.2)\n",
      "Requirement already satisfied: jsonpatch<2.0,>=1.33 in /Users/anvvsharma/anvv/ws/agenticai/vagenticai/lib/python3.13/site-packages (from langchain_core) (1.33)\n",
      "Requirement already satisfied: aiohttp<4.0.0,>=3.8.3 in /Users/anvvsharma/anvv/ws/agenticai/vagenticai/lib/python3.13/site-packages (from langchain-community) (3.12.13)\n",
      "Requirement already satisfied: dataclasses-json<0.7,>=0.5.7 in /Users/anvvsharma/anvv/ws/agenticai/vagenticai/lib/python3.13/site-packages (from langchain-community) (0.6.7)\n",
      "Requirement already satisfied: pydantic-settings<3.0.0,>=2.4.0 in /Users/anvvsharma/anvv/ws/agenticai/vagenticai/lib/python3.13/site-packages (from langchain-community) (2.9.1)\n",
      "Requirement already satisfied: httpx-sse<1.0.0,>=0.4.0 in /Users/anvvsharma/anvv/ws/agenticai/vagenticai/lib/python3.13/site-packages (from langchain-community) (0.4.0)\n",
      "Requirement already satisfied: tokenizers>=0.19.1 in /Users/anvvsharma/anvv/ws/agenticai/vagenticai/lib/python3.13/site-packages (from langchain_huggingface) (0.21.1)\n",
      "Requirement already satisfied: filetype<2.0.0,>=1.2.0 in /Users/anvvsharma/anvv/ws/agenticai/vagenticai/lib/python3.13/site-packages (from langchain_google_genai) (1.2.0)\n",
      "Requirement already satisfied: pinecone<8.0.0,>=6.0.0 in /Users/anvvsharma/anvv/ws/agenticai/vagenticai/lib/python3.13/site-packages (from pinecone[asyncio]<8.0.0,>=6.0.0->langchain-pinecone) (6.0.2)\n",
      "Requirement already satisfied: langchain-tests<1.0.0,>=0.3.7 in /Users/anvvsharma/anvv/ws/agenticai/vagenticai/lib/python3.13/site-packages (from langchain-pinecone) (0.3.19)\n",
      "Requirement already satisfied: langgraph-checkpoint>=2.0.26 in /Users/anvvsharma/anvv/ws/agenticai/vagenticai/lib/python3.13/site-packages (from langgraph) (2.0.26)\n",
      "Requirement already satisfied: langgraph-prebuilt>=0.2.0 in /Users/anvvsharma/anvv/ws/agenticai/vagenticai/lib/python3.13/site-packages (from langgraph) (0.2.2)\n",
      "Requirement already satisfied: langgraph-sdk>=0.1.42 in /Users/anvvsharma/anvv/ws/agenticai/vagenticai/lib/python3.13/site-packages (from langgraph) (0.1.70)\n",
      "Requirement already satisfied: xxhash>=3.5.0 in /Users/anvvsharma/anvv/ws/agenticai/vagenticai/lib/python3.13/site-packages (from langgraph) (3.5.0)\n",
      "Requirement already satisfied: openai<2.0.0,>=1.68.2 in /Users/anvvsharma/anvv/ws/agenticai/vagenticai/lib/python3.13/site-packages (from langchain-openai) (1.82.0)\n",
      "Requirement already satisfied: tiktoken<1,>=0.7 in /Users/anvvsharma/anvv/ws/agenticai/vagenticai/lib/python3.13/site-packages (from langchain-openai) (0.9.0)\n",
      "Requirement already satisfied: google-ai-generativelanguage==0.6.15 in /Users/anvvsharma/anvv/ws/agenticai/vagenticai/lib/python3.13/site-packages (from google-generativeai) (0.6.15)\n",
      "Requirement already satisfied: google-api-core in /Users/anvvsharma/anvv/ws/agenticai/vagenticai/lib/python3.13/site-packages (from google-generativeai) (2.24.2)\n",
      "Requirement already satisfied: google-api-python-client in /Users/anvvsharma/anvv/ws/agenticai/vagenticai/lib/python3.13/site-packages (from google-generativeai) (2.170.0)\n",
      "Requirement already satisfied: google-auth>=2.15.0 in /Users/anvvsharma/anvv/ws/agenticai/vagenticai/lib/python3.13/site-packages (from google-generativeai) (2.40.2)\n",
      "Requirement already satisfied: protobuf in /Users/anvvsharma/anvv/ws/agenticai/vagenticai/lib/python3.13/site-packages (from google-generativeai) (5.29.5)\n",
      "Requirement already satisfied: proto-plus<2.0.0dev,>=1.22.3 in /Users/anvvsharma/anvv/ws/agenticai/vagenticai/lib/python3.13/site-packages (from google-ai-generativelanguage==0.6.15->google-generativeai) (1.26.1)\n",
      "Requirement already satisfied: feedparser~=6.0.10 in /Users/anvvsharma/anvv/ws/agenticai/vagenticai/lib/python3.13/site-packages (from arxiv) (6.0.11)\n",
      "Requirement already satisfied: mypy<2.0.0,>=1.15.0 in /Users/anvvsharma/anvv/ws/agenticai/vagenticai/lib/python3.13/site-packages (from langchain-tavily) (1.16.0)\n",
      "Collecting requests<3,>=2 (from langchain)\n",
      "  Downloading requests-2.32.4-py3-none-any.whl.metadata (4.9 kB)\n",
      "Requirement already satisfied: build>=1.0.3 in /Users/anvvsharma/anvv/ws/agenticai/vagenticai/lib/python3.13/site-packages (from chromadb) (1.2.2.post1)\n",
      "Requirement already satisfied: fastapi==0.115.9 in /Users/anvvsharma/anvv/ws/agenticai/vagenticai/lib/python3.13/site-packages (from chromadb) (0.115.9)\n",
      "Requirement already satisfied: uvicorn>=0.18.3 in /Users/anvvsharma/anvv/ws/agenticai/vagenticai/lib/python3.13/site-packages (from uvicorn[standard]>=0.18.3->chromadb) (0.34.2)\n",
      "Requirement already satisfied: posthog>=2.4.0 in /Users/anvvsharma/anvv/ws/agenticai/vagenticai/lib/python3.13/site-packages (from chromadb) (4.4.0)\n",
      "Requirement already satisfied: onnxruntime>=1.14.1 in /Users/anvvsharma/anvv/ws/agenticai/vagenticai/lib/python3.13/site-packages (from chromadb) (1.22.0)\n",
      "Requirement already satisfied: opentelemetry-api>=1.2.0 in /Users/anvvsharma/anvv/ws/agenticai/vagenticai/lib/python3.13/site-packages (from chromadb) (1.34.0)\n",
      "Requirement already satisfied: opentelemetry-exporter-otlp-proto-grpc>=1.2.0 in /Users/anvvsharma/anvv/ws/agenticai/vagenticai/lib/python3.13/site-packages (from chromadb) (1.34.0)\n",
      "Requirement already satisfied: opentelemetry-instrumentation-fastapi>=0.41b0 in /Users/anvvsharma/anvv/ws/agenticai/vagenticai/lib/python3.13/site-packages (from chromadb) (0.55b0)\n",
      "Requirement already satisfied: opentelemetry-sdk>=1.2.0 in /Users/anvvsharma/anvv/ws/agenticai/vagenticai/lib/python3.13/site-packages (from chromadb) (1.34.0)\n",
      "Requirement already satisfied: pypika>=0.48.9 in /Users/anvvsharma/anvv/ws/agenticai/vagenticai/lib/python3.13/site-packages (from chromadb) (0.48.9)\n",
      "Requirement already satisfied: overrides>=7.3.1 in /Users/anvvsharma/anvv/ws/agenticai/vagenticai/lib/python3.13/site-packages (from chromadb) (7.7.0)\n",
      "Requirement already satisfied: importlib-resources in /Users/anvvsharma/anvv/ws/agenticai/vagenticai/lib/python3.13/site-packages (from chromadb) (6.5.2)\n",
      "Requirement already satisfied: grpcio>=1.58.0 in /Users/anvvsharma/anvv/ws/agenticai/vagenticai/lib/python3.13/site-packages (from chromadb) (1.71.0)\n",
      "Requirement already satisfied: bcrypt>=4.0.1 in /Users/anvvsharma/anvv/ws/agenticai/vagenticai/lib/python3.13/site-packages (from chromadb) (4.3.0)\n",
      "Requirement already satisfied: typer>=0.9.0 in /Users/anvvsharma/anvv/ws/agenticai/vagenticai/lib/python3.13/site-packages (from chromadb) (0.16.0)\n",
      "Requirement already satisfied: kubernetes>=28.1.0 in /Users/anvvsharma/anvv/ws/agenticai/vagenticai/lib/python3.13/site-packages (from chromadb) (32.0.1)\n",
      "Requirement already satisfied: mmh3>=4.0.1 in /Users/anvvsharma/anvv/ws/agenticai/vagenticai/lib/python3.13/site-packages (from chromadb) (5.1.0)\n",
      "Requirement already satisfied: orjson>=3.9.12 in /Users/anvvsharma/anvv/ws/agenticai/vagenticai/lib/python3.13/site-packages (from chromadb) (3.10.18)\n",
      "Requirement already satisfied: httpx>=0.27.0 in /Users/anvvsharma/anvv/ws/agenticai/vagenticai/lib/python3.13/site-packages (from chromadb) (0.28.1)\n",
      "Requirement already satisfied: rich>=10.11.0 in /Users/anvvsharma/anvv/ws/agenticai/vagenticai/lib/python3.13/site-packages (from chromadb) (14.0.0)\n",
      "Requirement already satisfied: jsonschema>=4.19.0 in /Users/anvvsharma/anvv/ws/agenticai/vagenticai/lib/python3.13/site-packages (from chromadb) (4.24.0)\n",
      "Requirement already satisfied: starlette<0.46.0,>=0.40.0 in /Users/anvvsharma/anvv/ws/agenticai/vagenticai/lib/python3.13/site-packages (from fastapi==0.115.9->chromadb) (0.45.3)\n",
      "Requirement already satisfied: aiohappyeyeballs>=2.5.0 in /Users/anvvsharma/anvv/ws/agenticai/vagenticai/lib/python3.13/site-packages (from aiohttp<4.0.0,>=3.8.3->langchain-community) (2.6.1)\n",
      "Requirement already satisfied: aiosignal>=1.1.2 in /Users/anvvsharma/anvv/ws/agenticai/vagenticai/lib/python3.13/site-packages (from aiohttp<4.0.0,>=3.8.3->langchain-community) (1.3.2)\n",
      "Requirement already satisfied: attrs>=17.3.0 in /Users/anvvsharma/anvv/ws/agenticai/vagenticai/lib/python3.13/site-packages (from aiohttp<4.0.0,>=3.8.3->langchain-community) (25.3.0)\n",
      "Requirement already satisfied: frozenlist>=1.1.1 in /Users/anvvsharma/anvv/ws/agenticai/vagenticai/lib/python3.13/site-packages (from aiohttp<4.0.0,>=3.8.3->langchain-community) (1.6.0)\n",
      "Requirement already satisfied: multidict<7.0,>=4.5 in /Users/anvvsharma/anvv/ws/agenticai/vagenticai/lib/python3.13/site-packages (from aiohttp<4.0.0,>=3.8.3->langchain-community) (6.4.4)\n",
      "Requirement already satisfied: propcache>=0.2.0 in /Users/anvvsharma/anvv/ws/agenticai/vagenticai/lib/python3.13/site-packages (from aiohttp<4.0.0,>=3.8.3->langchain-community) (0.3.1)\n",
      "Requirement already satisfied: yarl<2.0,>=1.17.0 in /Users/anvvsharma/anvv/ws/agenticai/vagenticai/lib/python3.13/site-packages (from aiohttp<4.0.0,>=3.8.3->langchain-community) (1.20.0)\n",
      "Requirement already satisfied: pyproject_hooks in /Users/anvvsharma/anvv/ws/agenticai/vagenticai/lib/python3.13/site-packages (from build>=1.0.3->chromadb) (1.2.0)\n",
      "Requirement already satisfied: marshmallow<4.0.0,>=3.18.0 in /Users/anvvsharma/anvv/ws/agenticai/vagenticai/lib/python3.13/site-packages (from dataclasses-json<0.7,>=0.5.7->langchain-community) (3.26.1)\n",
      "Requirement already satisfied: typing-inspect<1,>=0.4.0 in /Users/anvvsharma/anvv/ws/agenticai/vagenticai/lib/python3.13/site-packages (from dataclasses-json<0.7,>=0.5.7->langchain-community) (0.9.0)\n",
      "Requirement already satisfied: sgmllib3k in /Users/anvvsharma/anvv/ws/agenticai/vagenticai/lib/python3.13/site-packages (from feedparser~=6.0.10->arxiv) (1.0.0)\n",
      "Requirement already satisfied: googleapis-common-protos<2.0.0,>=1.56.2 in /Users/anvvsharma/anvv/ws/agenticai/vagenticai/lib/python3.13/site-packages (from google-api-core->google-generativeai) (1.70.0)\n",
      "Requirement already satisfied: cachetools<6.0,>=2.0.0 in /Users/anvvsharma/anvv/ws/agenticai/vagenticai/lib/python3.13/site-packages (from google-auth>=2.15.0->google-generativeai) (5.5.2)\n",
      "Requirement already satisfied: pyasn1-modules>=0.2.1 in /Users/anvvsharma/anvv/ws/agenticai/vagenticai/lib/python3.13/site-packages (from google-auth>=2.15.0->google-generativeai) (0.4.2)\n",
      "Requirement already satisfied: rsa<5,>=3.1.4 in /Users/anvvsharma/anvv/ws/agenticai/vagenticai/lib/python3.13/site-packages (from google-auth>=2.15.0->google-generativeai) (4.9.1)\n",
      "Requirement already satisfied: anyio<5,>=3.5.0 in /Users/anvvsharma/anvv/ws/agenticai/vagenticai/lib/python3.13/site-packages (from groq<1,>=0.4.1->langchain_groq) (4.9.0)\n",
      "Requirement already satisfied: distro<2,>=1.7.0 in /Users/anvvsharma/anvv/ws/agenticai/vagenticai/lib/python3.13/site-packages (from groq<1,>=0.4.1->langchain_groq) (1.9.0)\n",
      "Requirement already satisfied: sniffio in /Users/anvvsharma/anvv/ws/agenticai/vagenticai/lib/python3.13/site-packages (from groq<1,>=0.4.1->langchain_groq) (1.3.1)\n",
      "Requirement already satisfied: certifi in /Users/anvvsharma/anvv/ws/agenticai/vagenticai/lib/python3.13/site-packages (from httpx>=0.27.0->chromadb) (2025.4.26)\n",
      "Requirement already satisfied: httpcore==1.* in /Users/anvvsharma/anvv/ws/agenticai/vagenticai/lib/python3.13/site-packages (from httpx>=0.27.0->chromadb) (1.0.9)\n",
      "Requirement already satisfied: idna in /Users/anvvsharma/anvv/ws/agenticai/vagenticai/lib/python3.13/site-packages (from httpx>=0.27.0->chromadb) (3.10)\n",
      "Requirement already satisfied: h11>=0.16 in /Users/anvvsharma/anvv/ws/agenticai/vagenticai/lib/python3.13/site-packages (from httpcore==1.*->httpx>=0.27.0->chromadb) (0.16.0)\n",
      "Requirement already satisfied: filelock in /Users/anvvsharma/anvv/ws/agenticai/vagenticai/lib/python3.13/site-packages (from huggingface-hub>=0.20.0->sentence_transformers) (3.18.0)\n",
      "Requirement already satisfied: fsspec>=2023.5.0 in /Users/anvvsharma/anvv/ws/agenticai/vagenticai/lib/python3.13/site-packages (from huggingface-hub>=0.20.0->sentence_transformers) (2025.5.1)\n",
      "Requirement already satisfied: hf-xet<2.0.0,>=1.1.2 in /Users/anvvsharma/anvv/ws/agenticai/vagenticai/lib/python3.13/site-packages (from huggingface-hub>=0.20.0->sentence_transformers) (1.1.2)\n",
      "Requirement already satisfied: jsonpointer>=1.9 in /Users/anvvsharma/anvv/ws/agenticai/vagenticai/lib/python3.13/site-packages (from jsonpatch<2.0,>=1.33->langchain_core) (3.0.0)\n",
      "Requirement already satisfied: jsonschema-specifications>=2023.03.6 in /Users/anvvsharma/anvv/ws/agenticai/vagenticai/lib/python3.13/site-packages (from jsonschema>=4.19.0->chromadb) (2025.4.1)\n",
      "Requirement already satisfied: referencing>=0.28.4 in /Users/anvvsharma/anvv/ws/agenticai/vagenticai/lib/python3.13/site-packages (from jsonschema>=4.19.0->chromadb) (0.36.2)\n",
      "Requirement already satisfied: rpds-py>=0.7.1 in /Users/anvvsharma/anvv/ws/agenticai/vagenticai/lib/python3.13/site-packages (from jsonschema>=4.19.0->chromadb) (0.25.1)\n",
      "Requirement already satisfied: six>=1.9.0 in /Users/anvvsharma/anvv/ws/agenticai/vagenticai/lib/python3.13/site-packages (from kubernetes>=28.1.0->chromadb) (1.17.0)\n",
      "Requirement already satisfied: python-dateutil>=2.5.3 in /Users/anvvsharma/anvv/ws/agenticai/vagenticai/lib/python3.13/site-packages (from kubernetes>=28.1.0->chromadb) (2.9.0.post0)\n",
      "Requirement already satisfied: websocket-client!=0.40.0,!=0.41.*,!=0.42.*,>=0.32.0 in /Users/anvvsharma/anvv/ws/agenticai/vagenticai/lib/python3.13/site-packages (from kubernetes>=28.1.0->chromadb) (1.8.0)\n",
      "Requirement already satisfied: requests-oauthlib in /Users/anvvsharma/anvv/ws/agenticai/vagenticai/lib/python3.13/site-packages (from kubernetes>=28.1.0->chromadb) (2.0.0)\n",
      "Requirement already satisfied: oauthlib>=3.2.2 in /Users/anvvsharma/anvv/ws/agenticai/vagenticai/lib/python3.13/site-packages (from kubernetes>=28.1.0->chromadb) (3.2.2)\n",
      "Requirement already satisfied: urllib3>=1.24.2 in /Users/anvvsharma/anvv/ws/agenticai/vagenticai/lib/python3.13/site-packages (from kubernetes>=28.1.0->chromadb) (2.4.0)\n",
      "Requirement already satisfied: durationpy>=0.7 in /Users/anvvsharma/anvv/ws/agenticai/vagenticai/lib/python3.13/site-packages (from kubernetes>=28.1.0->chromadb) (0.10)\n",
      "Requirement already satisfied: pytest<9,>=7 in /Users/anvvsharma/anvv/ws/agenticai/vagenticai/lib/python3.13/site-packages (from langchain-tests<1.0.0,>=0.3.7->langchain-pinecone) (8.3.5)\n",
      "Requirement already satisfied: pytest-asyncio<1,>=0.20 in /Users/anvvsharma/anvv/ws/agenticai/vagenticai/lib/python3.13/site-packages (from langchain-tests<1.0.0,>=0.3.7->langchain-pinecone) (0.26.0)\n",
      "Requirement already satisfied: syrupy<5,>=4 in /Users/anvvsharma/anvv/ws/agenticai/vagenticai/lib/python3.13/site-packages (from langchain-tests<1.0.0,>=0.3.7->langchain-pinecone) (4.9.1)\n",
      "Requirement already satisfied: pytest-socket<1,>=0.6.0 in /Users/anvvsharma/anvv/ws/agenticai/vagenticai/lib/python3.13/site-packages (from langchain-tests<1.0.0,>=0.3.7->langchain-pinecone) (0.7.0)\n",
      "Requirement already satisfied: ormsgpack<2.0.0,>=1.8.0 in /Users/anvvsharma/anvv/ws/agenticai/vagenticai/lib/python3.13/site-packages (from langgraph-checkpoint>=2.0.26->langgraph) (1.10.0)\n",
      "Requirement already satisfied: requests-toolbelt<2.0.0,>=1.0.0 in /Users/anvvsharma/anvv/ws/agenticai/vagenticai/lib/python3.13/site-packages (from langsmith<0.4,>=0.1.17->langchain) (1.0.0)\n",
      "Requirement already satisfied: zstandard<0.24.0,>=0.23.0 in /Users/anvvsharma/anvv/ws/agenticai/vagenticai/lib/python3.13/site-packages (from langsmith<0.4,>=0.1.17->langchain) (0.23.0)\n",
      "Requirement already satisfied: mypy_extensions>=1.0.0 in /Users/anvvsharma/anvv/ws/agenticai/vagenticai/lib/python3.13/site-packages (from mypy<2.0.0,>=1.15.0->langchain-tavily) (1.1.0)\n",
      "Requirement already satisfied: pathspec>=0.9.0 in /Users/anvvsharma/anvv/ws/agenticai/vagenticai/lib/python3.13/site-packages (from mypy<2.0.0,>=1.15.0->langchain-tavily) (0.12.1)\n",
      "Requirement already satisfied: coloredlogs in /Users/anvvsharma/anvv/ws/agenticai/vagenticai/lib/python3.13/site-packages (from onnxruntime>=1.14.1->chromadb) (15.0.1)\n",
      "Requirement already satisfied: flatbuffers in /Users/anvvsharma/anvv/ws/agenticai/vagenticai/lib/python3.13/site-packages (from onnxruntime>=1.14.1->chromadb) (25.2.10)\n",
      "Requirement already satisfied: sympy in /Users/anvvsharma/anvv/ws/agenticai/vagenticai/lib/python3.13/site-packages (from onnxruntime>=1.14.1->chromadb) (1.14.0)\n",
      "Requirement already satisfied: jiter<1,>=0.4.0 in /Users/anvvsharma/anvv/ws/agenticai/vagenticai/lib/python3.13/site-packages (from openai<2.0.0,>=1.68.2->langchain-openai) (0.10.0)\n",
      "Requirement already satisfied: importlib-metadata<8.8.0,>=6.0 in /Users/anvvsharma/anvv/ws/agenticai/vagenticai/lib/python3.13/site-packages (from opentelemetry-api>=1.2.0->chromadb) (8.7.0)\n",
      "Requirement already satisfied: opentelemetry-exporter-otlp-proto-common==1.34.0 in /Users/anvvsharma/anvv/ws/agenticai/vagenticai/lib/python3.13/site-packages (from opentelemetry-exporter-otlp-proto-grpc>=1.2.0->chromadb) (1.34.0)\n",
      "Requirement already satisfied: opentelemetry-proto==1.34.0 in /Users/anvvsharma/anvv/ws/agenticai/vagenticai/lib/python3.13/site-packages (from opentelemetry-exporter-otlp-proto-grpc>=1.2.0->chromadb) (1.34.0)\n",
      "Requirement already satisfied: opentelemetry-instrumentation-asgi==0.55b0 in /Users/anvvsharma/anvv/ws/agenticai/vagenticai/lib/python3.13/site-packages (from opentelemetry-instrumentation-fastapi>=0.41b0->chromadb) (0.55b0)\n",
      "Requirement already satisfied: opentelemetry-instrumentation==0.55b0 in /Users/anvvsharma/anvv/ws/agenticai/vagenticai/lib/python3.13/site-packages (from opentelemetry-instrumentation-fastapi>=0.41b0->chromadb) (0.55b0)\n",
      "Requirement already satisfied: opentelemetry-semantic-conventions==0.55b0 in /Users/anvvsharma/anvv/ws/agenticai/vagenticai/lib/python3.13/site-packages (from opentelemetry-instrumentation-fastapi>=0.41b0->chromadb) (0.55b0)\n",
      "Requirement already satisfied: opentelemetry-util-http==0.55b0 in /Users/anvvsharma/anvv/ws/agenticai/vagenticai/lib/python3.13/site-packages (from opentelemetry-instrumentation-fastapi>=0.41b0->chromadb) (0.55b0)\n",
      "Requirement already satisfied: wrapt<2.0.0,>=1.0.0 in /Users/anvvsharma/anvv/ws/agenticai/vagenticai/lib/python3.13/site-packages (from opentelemetry-instrumentation==0.55b0->opentelemetry-instrumentation-fastapi>=0.41b0->chromadb) (1.17.2)\n",
      "Requirement already satisfied: asgiref~=3.0 in /Users/anvvsharma/anvv/ws/agenticai/vagenticai/lib/python3.13/site-packages (from opentelemetry-instrumentation-asgi==0.55b0->opentelemetry-instrumentation-fastapi>=0.41b0->chromadb) (3.8.1)\n",
      "Requirement already satisfied: pinecone-plugin-interface<0.0.8,>=0.0.7 in /Users/anvvsharma/anvv/ws/agenticai/vagenticai/lib/python3.13/site-packages (from pinecone<8.0.0,>=6.0.0->pinecone[asyncio]<8.0.0,>=6.0.0->langchain-pinecone) (0.0.7)\n",
      "Requirement already satisfied: backoff>=1.10.0 in /Users/anvvsharma/anvv/ws/agenticai/vagenticai/lib/python3.13/site-packages (from posthog>=2.4.0->chromadb) (2.2.1)\n",
      "Requirement already satisfied: charset_normalizer<4,>=2 in /Users/anvvsharma/anvv/ws/agenticai/vagenticai/lib/python3.13/site-packages (from requests<3,>=2->langchain) (3.4.2)\n",
      "Requirement already satisfied: markdown-it-py>=2.2.0 in /Users/anvvsharma/anvv/ws/agenticai/vagenticai/lib/python3.13/site-packages (from rich>=10.11.0->chromadb) (3.0.0)\n",
      "Requirement already satisfied: pygments<3.0.0,>=2.13.0 in /Users/anvvsharma/anvv/ws/agenticai/vagenticai/lib/python3.13/site-packages (from rich>=10.11.0->chromadb) (2.19.1)\n",
      "Requirement already satisfied: regex>=2022.1.18 in /Users/anvvsharma/anvv/ws/agenticai/vagenticai/lib/python3.13/site-packages (from tiktoken<1,>=0.7->langchain-openai) (2024.11.6)\n",
      "Requirement already satisfied: setuptools in /Users/anvvsharma/anvv/ws/agenticai/vagenticai/lib/python3.13/site-packages (from torch>=1.11.0->sentence_transformers) (80.9.0)\n",
      "Requirement already satisfied: networkx in /Users/anvvsharma/anvv/ws/agenticai/vagenticai/lib/python3.13/site-packages (from torch>=1.11.0->sentence_transformers) (3.5)\n",
      "Requirement already satisfied: jinja2 in /Users/anvvsharma/anvv/ws/agenticai/vagenticai/lib/python3.13/site-packages (from torch>=1.11.0->sentence_transformers) (3.1.6)\n",
      "Requirement already satisfied: safetensors>=0.4.3 in /Users/anvvsharma/anvv/ws/agenticai/vagenticai/lib/python3.13/site-packages (from transformers<5.0.0,>=4.41.0->sentence_transformers) (0.5.3)\n",
      "Requirement already satisfied: shellingham>=1.3.0 in /Users/anvvsharma/anvv/ws/agenticai/vagenticai/lib/python3.13/site-packages (from typer>=0.9.0->chromadb) (1.5.4)\n",
      "Requirement already satisfied: httptools>=0.6.3 in /Users/anvvsharma/anvv/ws/agenticai/vagenticai/lib/python3.13/site-packages (from uvicorn[standard]>=0.18.3->chromadb) (0.6.4)\n",
      "Requirement already satisfied: uvloop!=0.15.0,!=0.15.1,>=0.14.0 in /Users/anvvsharma/anvv/ws/agenticai/vagenticai/lib/python3.13/site-packages (from uvicorn[standard]>=0.18.3->chromadb) (0.21.0)\n",
      "Requirement already satisfied: watchfiles>=0.13 in /Users/anvvsharma/anvv/ws/agenticai/vagenticai/lib/python3.13/site-packages (from uvicorn[standard]>=0.18.3->chromadb) (1.0.5)\n",
      "Requirement already satisfied: websockets>=10.4 in /Users/anvvsharma/anvv/ws/agenticai/vagenticai/lib/python3.13/site-packages (from uvicorn[standard]>=0.18.3->chromadb) (15.0.1)\n",
      "Requirement already satisfied: soupsieve>1.2 in /Users/anvvsharma/anvv/ws/agenticai/vagenticai/lib/python3.13/site-packages (from beautifulsoup4->bs4) (2.7)\n",
      "Requirement already satisfied: httplib2<1.0.0,>=0.19.0 in /Users/anvvsharma/anvv/ws/agenticai/vagenticai/lib/python3.13/site-packages (from google-api-python-client->google-generativeai) (0.22.0)\n",
      "Requirement already satisfied: google-auth-httplib2<1.0.0,>=0.2.0 in /Users/anvvsharma/anvv/ws/agenticai/vagenticai/lib/python3.13/site-packages (from google-api-python-client->google-generativeai) (0.2.0)\n",
      "Requirement already satisfied: uritemplate<5,>=3.0.1 in /Users/anvvsharma/anvv/ws/agenticai/vagenticai/lib/python3.13/site-packages (from google-api-python-client->google-generativeai) (4.2.0)\n",
      "Requirement already satisfied: joblib>=1.2.0 in /Users/anvvsharma/anvv/ws/agenticai/vagenticai/lib/python3.13/site-packages (from scikit-learn->sentence_transformers) (1.5.1)\n",
      "Requirement already satisfied: threadpoolctl>=3.1.0 in /Users/anvvsharma/anvv/ws/agenticai/vagenticai/lib/python3.13/site-packages (from scikit-learn->sentence_transformers) (3.6.0)\n",
      "Requirement already satisfied: grpcio-status<2.0.dev0,>=1.33.2 in /Users/anvvsharma/anvv/ws/agenticai/vagenticai/lib/python3.13/site-packages (from google-api-core[grpc]!=2.0.*,!=2.1.*,!=2.10.*,!=2.2.*,!=2.3.*,!=2.4.*,!=2.5.*,!=2.6.*,!=2.7.*,!=2.8.*,!=2.9.*,<3.0.0dev,>=1.34.1->google-ai-generativelanguage==0.6.15->google-generativeai) (1.71.0)\n",
      "Requirement already satisfied: pyparsing!=3.0.0,!=3.0.1,!=3.0.2,!=3.0.3,<4,>=2.4.2 in /Users/anvvsharma/anvv/ws/agenticai/vagenticai/lib/python3.13/site-packages (from httplib2<1.0.0,>=0.19.0->google-api-python-client->google-generativeai) (3.2.3)\n",
      "Requirement already satisfied: zipp>=3.20 in /Users/anvvsharma/anvv/ws/agenticai/vagenticai/lib/python3.13/site-packages (from importlib-metadata<8.8.0,>=6.0->opentelemetry-api>=1.2.0->chromadb) (3.22.0)\n",
      "Requirement already satisfied: mdurl~=0.1 in /Users/anvvsharma/anvv/ws/agenticai/vagenticai/lib/python3.13/site-packages (from markdown-it-py>=2.2.0->rich>=10.11.0->chromadb) (0.1.2)\n",
      "Requirement already satisfied: pyasn1<0.7.0,>=0.6.1 in /Users/anvvsharma/anvv/ws/agenticai/vagenticai/lib/python3.13/site-packages (from pyasn1-modules>=0.2.1->google-auth>=2.15.0->google-generativeai) (0.6.1)\n",
      "Requirement already satisfied: iniconfig in /Users/anvvsharma/anvv/ws/agenticai/vagenticai/lib/python3.13/site-packages (from pytest<9,>=7->langchain-tests<1.0.0,>=0.3.7->langchain-pinecone) (2.1.0)\n",
      "Requirement already satisfied: pluggy<2,>=1.5 in /Users/anvvsharma/anvv/ws/agenticai/vagenticai/lib/python3.13/site-packages (from pytest<9,>=7->langchain-tests<1.0.0,>=0.3.7->langchain-pinecone) (1.6.0)\n",
      "Requirement already satisfied: mpmath<1.4,>=1.1.0 in /Users/anvvsharma/anvv/ws/agenticai/vagenticai/lib/python3.13/site-packages (from sympy->onnxruntime>=1.14.1->chromadb) (1.3.0)\n",
      "Requirement already satisfied: humanfriendly>=9.1 in /Users/anvvsharma/anvv/ws/agenticai/vagenticai/lib/python3.13/site-packages (from coloredlogs->onnxruntime>=1.14.1->chromadb) (10.0)\n",
      "Requirement already satisfied: MarkupSafe>=2.0 in /Users/anvvsharma/anvv/ws/agenticai/vagenticai/lib/python3.13/site-packages (from jinja2->torch>=1.11.0->sentence_transformers) (3.0.2)\n",
      "Downloading requests-2.32.4-py3-none-any.whl (64 kB)\n",
      "Installing collected packages: requests\n",
      "  Attempting uninstall: requests\n",
      "    Found existing installation: requests 2.32.2\n",
      "    Uninstalling requests-2.32.2:\n",
      "      Successfully uninstalled requests-2.32.2\n",
      "\u001b[31mERROR: pip's dependency resolver does not currently take into account all the packages that are installed. This behaviour is the source of the following dependency conflicts.\n",
      "ibm-cos-sdk-core 2.14.1 requires requests<2.32.3,>=2.32.0, but you have requests 2.32.4 which is incompatible.\u001b[0m\u001b[31m\n",
      "\u001b[0mSuccessfully installed requests-2.32.4\n",
      "\n",
      "\u001b[1m[\u001b[0m\u001b[34;49mnotice\u001b[0m\u001b[1;39;49m]\u001b[0m\u001b[39;49m A new release of pip is available: \u001b[0m\u001b[31;49m24.3.1\u001b[0m\u001b[39;49m -> \u001b[0m\u001b[32;49m25.1.1\u001b[0m\n",
      "\u001b[1m[\u001b[0m\u001b[34;49mnotice\u001b[0m\u001b[1;39;49m]\u001b[0m\u001b[39;49m To update, run: \u001b[0m\u001b[32;49mpip install --upgrade pip\u001b[0m\n",
      "Note: you may need to restart the kernel to use updated packages.\n"
     ]
    }
   ],
   "source": [
    "pip install duckduckgo_search langchain_groq sentence_transformers faiss-cpu pydantic python-dotenv pypdf bs4 langchain langchain_core langchain-community langchain_huggingface langchain_google_genai langchain-pinecone langgraph langchain-openai langchain_groq langchain_google_genai google-generativeai  pymupdf wikipedia arxiv defusedxml  youtube_search langchain-tavily langgraph chromadb\n"
   ]
  },
  {
   "cell_type": "code",
   "execution_count": 17,
   "id": "37c89a06",
   "metadata": {},
   "outputs": [
    {
     "data": {
      "text/plain": [
       "True"
      ]
     },
     "execution_count": 17,
     "metadata": {},
     "output_type": "execute_result"
    }
   ],
   "source": [
    "#### import\n",
    "import os\n",
    "import pprint\n",
    "from dotenv import load_dotenv\n",
    "from langgraph.graph import Graph\n",
    "from IPython.display import Image, display\n",
    "load_dotenv()\n"
   ]
  },
  {
   "cell_type": "code",
   "execution_count": 18,
   "id": "6025c349",
   "metadata": {},
   "outputs": [
    {
     "name": "stdout",
     "output_type": "stream",
     "text": [
      "'<think>\\n\\n</think>\\n\\nHello! How can I assist you today? 😊'\n"
     ]
    }
   ],
   "source": [
    "### Configure the Model\n",
    "from langchain_groq import ChatGroq\n",
    "model = ChatGroq(model=\"deepseek-r1-distill-llama-70b\")\n",
    "query = \"Hi\"\n",
    "response = model.invoke(query)\n",
    "pprint.pprint(response.content)\n",
    "\n"
   ]
  },
  {
   "cell_type": "code",
   "execution_count": 45,
   "id": "385982e1",
   "metadata": {},
   "outputs": [
    {
     "data": {
      "text/plain": [
       "384"
      ]
     },
     "execution_count": 45,
     "metadata": {},
     "output_type": "execute_result"
    }
   ],
   "source": [
    "### Configure the Embedding\n",
    "from langchain_huggingface import HuggingFaceEmbeddings\n",
    "embeddings = HuggingFaceEmbeddings(model_name=\"BAAI/bge-small-en\")\n",
    "embed_query = embeddings.embed_query(query)\n",
    "len(embed_query)\n"
   ]
  },
  {
   "cell_type": "code",
   "execution_count": 46,
   "id": "96d9f0c6",
   "metadata": {},
   "outputs": [],
   "source": [
    "# Lets take a Data embedd it and store in Vector Database\n",
    "##### Imports\n",
    "import requests\n",
    "from langchain_community.document_loaders import TextLoader, DirectoryLoader\n",
    "from langchain_community.vectorstores import Chroma\n",
    "from langchain.text_splitter import RecursiveCharacterTextSplitter\n",
    "import operator\n",
    "from langchain_core.tools import tool\n",
    "from langchain.tools import tool\n",
    "from typing import List\n",
    "from pydantic import BaseModel , Field\n",
    "from langchain.prompts import PromptTemplate\n",
    "from typing import TypedDict, Annotated, Sequence\n",
    "from langchain_core.messages import BaseMessage\n",
    "from langchain_core.output_parsers import StrOutputParser\n",
    "from langchain_core.prompts import ChatPromptTemplate, PromptTemplate\n",
    "from langchain_core.runnables import RunnablePassthrough\n",
    "from langchain_core.messages import HumanMessage, AIMessage\n",
    "from langchain_core.messages import HumanMessage, SystemMessage\n",
    "from langgraph.graph import StateGraph,END,MessagesState,START\n",
    "from langgraph.prebuilt import ToolNode"
   ]
  },
  {
   "cell_type": "code",
   "execution_count": 85,
   "id": "85539ed8",
   "metadata": {},
   "outputs": [],
   "source": [
    "# Travel Agent Tool\n",
    "@tool\n",
    "class TravelAgent:\n",
    "    \"\"\"\n",
    "    Travel Agent Tool\n",
    "    \"\"\"\n",
    "    def __init__(self):\n",
    "        pass\n",
    "\n",
    "    def TravelAgent():\n",
    "        return f\"This is Travel Agent \"\n",
    "    \n",
    "@tool\n",
    "class Weather:\n",
    "    \"\"\"\n",
    "    Weather Agent Tool\n",
    "    \"\"\"\n",
    "    def __init__(self):\n",
    "        pass\n",
    "\n",
    "    def get_weather_city(self, city):\n",
    "        city = city\n",
    "\n",
    "        return f\"Get Weather Report based on City Details\"\n",
    "\n",
    "@tool\n",
    "class Attration:\n",
    "    \"\"\" \n",
    "    Attraction Agent Tool\n",
    "    \"\"\"\n",
    "    def __init__(self):\n",
    "        return f\"I am default Attrations Reporter {self}\"\n",
    "\n",
    "    def get_attraction_details(self, city):\n",
    "        city = city"
   ]
  },
  {
   "cell_type": "code",
   "execution_count": 53,
   "id": "0c72b35f",
   "metadata": {},
   "outputs": [
    {
     "name": "stdout",
     "output_type": "stream",
     "text": [
      "('Hello! How can I assist you today? I can help with travel plans, weather '\n",
      " 'information, attraction recommendations, or even search the web for you. '\n",
      " 'Just let me know what you need!')\n",
      "\n"
     ]
    },
    {
     "data": {
      "text/plain": [
       "[{'name': 'Weather', 'args': {}, 'id': 'xnmwef8tf', 'type': 'tool_call'}]"
      ]
     },
     "execution_count": 53,
     "metadata": {},
     "output_type": "execute_result"
    }
   ],
   "source": [
    "from langchain_community.tools import DuckDuckGoSearchRun\n",
    "search = DuckDuckGoSearchRun()\n",
    "# search.invoke(\"What is the latest update on iPhone 17 relase ?\")\n",
    "\n",
    "# Combine Tools \n",
    "mytools = [TravelAgent, Weather, Attration, search]\n",
    "\n",
    "llm_Trip_Agent = model.bind_tools(mytools)\n",
    "response = llm_Trip_Agent.invoke(\"hi\")\n",
    "pprint.pprint(response.content)\n",
    "\n",
    "response.tool_calls\n",
    "mytools\n",
    "\n",
    "tool_node = ToolNode(mytools)\n",
    "query = \"How is the Weather in Hyderabad\"\n",
    "print()\n",
    "response = llm_Trip_Agent.invoke(query)\n",
    "response.tool_calls\n",
    "\n"
   ]
  },
  {
   "cell_type": "code",
   "execution_count": 55,
   "id": "2c937b8e",
   "metadata": {},
   "outputs": [
    {
     "data": {
      "text/plain": [
       "['You are a helful Travel Agent Tasked with using search and guide customers the best Travel Plan based on Weather, Tourist Attractions ',\n",
       " 'Tell me what is 2 + 2']"
      ]
     },
     "execution_count": 55,
     "metadata": {},
     "output_type": "execute_result"
    }
   ],
   "source": [
    "SYSTEM_PROMPT = \"You are a helful Travel Agent Tasked with using search and guide customers the best Travel Plan based on Weather, Tourist Attractions \"\n",
    "# messages: Annotated[list[AnyMessAge], add_messages]\n",
    "USER_QUERY = [\"Tell me what is 2 + 2\"]\n",
    "\n",
    "[SYSTEM_PROMPT]+USER_QUERY"
   ]
  },
  {
   "cell_type": "code",
   "execution_count": null,
   "id": "364496cd",
   "metadata": {},
   "outputs": [],
   "source": [
    "# Create State Management\n",
    "def supervisor(state:MessagesState):\n",
    "    USER_QUERY = state[\"messages\"]\n",
    "    INPUT_QUERY = [SYSTEM_PROMPT]+USER_QUERY\n",
    "\n",
    "    response = llm_Trip_Agent.invoke(INPUT_QUERY)\n",
    "\n",
    "    return {\n",
    "        \"messages\" : [response]\n",
    "    }\n"
   ]
  },
  {
   "cell_type": "code",
   "execution_count": 61,
   "id": "de82ca00",
   "metadata": {},
   "outputs": [
    {
     "data": {
      "image/png": "[encoded data removed]",
      "text/plain": [
       "<IPython.core.display.Image object>"
      ]
     },
     "metadata": {},
     "output_type": "display_data"
    }
   ],
   "source": [
    "from langgraph.prebuilt import ToolNode\n",
    "from langgraph.prebuilt import tools_condition\n",
    "from IPython.display import Image, display\n",
    "\n",
    "TravelAgent_workflow_builder = StateGraph(MessagesState)\n",
    "\n",
    "## Add SupervisorNode \n",
    "TravelAgent_workflow_builder.add_node(\"Travel Planner Agent\", supervisor)\n",
    "\n",
    "## Add all above tools, myTools\n",
    "TravelAgent_workflow_builder.add_node(\"tools\", ToolNode(mytools))\n",
    "\n",
    "## Add edges for decision making\n",
    "TravelAgent_workflow_builder.add_edge(START, \"Travel Planner Agent\")\n",
    "\n",
    "## Add Conditions\n",
    "TravelAgent_workflow_builder.add_conditional_edges(\"Travel Planner Agent\", tools_condition,)\n",
    "\n",
    "## Add Conditions\n",
    "TravelAgent_workflow_builder.add_edge(\"tools\",\"Travel Planner Agent\")\n",
    "\n",
    "## React and Action\n",
    "react_graph = TravelAgent_workflow_builder.compile()\n",
    "\n",
    "display(Image(react_graph.get_graph().draw_mermaid_png()))\n"
   ]
  },
  {
   "cell_type": "code",
   "execution_count": 63,
   "id": "890232fd",
   "metadata": {},
   "outputs": [
    {
     "data": {
      "text/plain": [
       "{'messages': [HumanMessage(content=\"what is 2 times of a nrendraamodi's age ?\", additional_kwargs={}, response_metadata={}, id='990f1f66-2144-4cb5-8e78-ebfe3943d353'),\n",
       "  AIMessage(content=\"To determine two times Narendra Modi's age, we first need to establish his current age. Narendra Modi was born on September 17, 1950. As of 2023, he is 73 years old. Multiplying this by two gives us:\\n\\n\\\\[\\n2 \\\\times 73 = 146\\n\\\\]\\n\\nSo, two times Narendra Modi's age is **146**. Let me know if you need further assistance!\", additional_kwargs={}, response_metadata={'token_usage': {'completion_tokens': 268, 'prompt_tokens': 267, 'total_tokens': 535, 'completion_time': 1.073233551, 'prompt_time': 0.017238432, 'queue_time': 0.057733941999999996, 'total_time': 1.090471983}, 'model_name': 'deepseek-r1-distill-llama-70b', 'system_fingerprint': 'fp_1bbe7845ec', 'finish_reason': 'stop', 'logprobs': None}, id='run--b9af5a2e-19b8-4fb9-8273-ab73dd33e450-0', usage_metadata={'input_tokens': 267, 'output_tokens': 268, 'total_tokens': 535})]}"
      ]
     },
     "execution_count": 63,
     "metadata": {},
     "output_type": "execute_result"
    }
   ],
   "source": [
    "message = [HumanMessage(content=\"what is 2 times of a nrendraamodi's age ?\")]\n",
    "\n",
    "response = react_graph.invoke({\"messages\": message})\n",
    "response"
   ]
  },
  {
   "cell_type": "code",
   "execution_count": 64,
   "id": "e60017c3",
   "metadata": {},
   "outputs": [
    {
     "data": {
      "text/plain": [
       "{'messages': [HumanMessage(content='How much is the net worth of elon musk and divided by 2 ?', additional_kwargs={}, response_metadata={}, id='4c580757-db0c-4588-8946-9f3da3af1a45'),\n",
       "  AIMessage(content='', additional_kwargs={'tool_calls': [{'id': 'yswm97w8m', 'function': {'arguments': '{\"query\":\"Elon Musk net worth 2023\"}', 'name': 'duckduckgo_search'}, 'type': 'function'}]}, response_metadata={'token_usage': {'completion_tokens': 352, 'prompt_tokens': 269, 'total_tokens': 621, 'completion_time': 1.9046034779999998, 'prompt_time': 0.025062472, 'queue_time': 0.05636221799999999, 'total_time': 1.92966595}, 'model_name': 'deepseek-r1-distill-llama-70b', 'system_fingerprint': 'fp_1bbe7845ec', 'finish_reason': 'tool_calls', 'logprobs': None}, id='run--aaa9fe0c-dc22-4681-ad76-a13ce08f6d1c-0', tool_calls=[{'name': 'duckduckgo_search', 'args': {'query': 'Elon Musk net worth 2023'}, 'id': 'yswm97w8m', 'type': 'tool_call'}], usage_metadata={'input_tokens': 269, 'output_tokens': 352, 'total_tokens': 621}),\n",
       "  ToolMessage(content=\"View net worth over: Max 1 year 1 quarter ... He renamed the company X Corp. in April 2023. Musk was the largest financial backer of Donald Trump's presidential campaign during the 2024 election ... Elon Musk Net worth: $423 billion Source: Tesla, SpaceX, xAI, X Age: 53 ... 2023 and held onto the number one spot for the remainder of 2023. He fell to No. 2 on January 31, 2024. South Africa-born Tesla and SpaceX boss Elon Musk has seen his net worth surpass $440 billion ... (GDP) figure according to the World Bank which, as of 2023, stood at $377.78 billion. Elon Musk's personal fortune has soared to a dizzying new level. Bloomberg reported Wednesday that his net worth, already larger than anyone else's on earth, has risen to $439.2 billion. It ... Elon Musk's net worth soared by $33.5 billion after Tesla shares surged 22%, marking their biggest gain in over a decade. The automaker has reported its largest quarterly profit since summer 2023.\", name='duckduckgo_search', id='68889efb-093e-4df3-a712-3e2157585dab', tool_call_id='yswm97w8m'),\n",
       "  AIMessage(content=\"Based on the search results, Elon Musk's net worth is approximately **$440 billion** (as of the latest data). \\n\\nIf we divide this by 2, the result would be:\\n\\n\\\\[\\n\\\\frac{440 \\\\text{ billion}}{2} = 220 \\\\text{ billion}\\n\\\\]\\n\\nSo, **$220 billion** is the result of dividing Elon Musk's net worth by 2.\", additional_kwargs={}, response_metadata={'token_usage': {'completion_tokens': 245, 'prompt_tokens': 559, 'total_tokens': 804, 'completion_time': 0.91360803, 'prompt_time': 0.043626119, 'queue_time': 0.052184959999999996, 'total_time': 0.957234149}, 'model_name': 'deepseek-r1-distill-llama-70b', 'system_fingerprint': 'fp_1bbe7845ec', 'finish_reason': 'stop', 'logprobs': None}, id='run--0c975461-022a-4b92-8af6-bcd0ee7f1684-0', usage_metadata={'input_tokens': 559, 'output_tokens': 245, 'total_tokens': 804})]}"
      ]
     },
     "execution_count": 64,
     "metadata": {},
     "output_type": "execute_result"
    }
   ],
   "source": [
    "message = [HumanMessage(content=\"How much is the net worth of elon musk and divided by 2 ?\")]\n",
    "response = react_graph.invoke({\"messages\": message})\n",
    "response"
   ]
  },
  {
   "cell_type": "code",
   "execution_count": 87,
   "id": "e2475adc",
   "metadata": {},
   "outputs": [
    {
     "data": {
      "text/plain": [
       "{'messages': [HumanMessage(content='TravelAgent, what is the waetehr in Hyderabad and Attractions in Hyderabad', additional_kwargs={}, response_metadata={}, id='b9d73707-2929-40ce-91e3-d921bc299ac5'),\n",
       "  AIMessage(content='', additional_kwargs={'tool_calls': [{'id': '92467sp2j', 'function': {'arguments': '{\"query\":\"Hyderabad weather\"}', 'name': 'Weather'}, 'type': 'function'}]}, response_metadata={'token_usage': {'completion_tokens': 276, 'prompt_tokens': 268, 'total_tokens': 544, 'completion_time': 1.18521829, 'prompt_time': 0.017214646, 'queue_time': 0.051062314, 'total_time': 1.2024329360000001}, 'model_name': 'deepseek-r1-distill-llama-70b', 'system_fingerprint': 'fp_1bbe7845ec', 'finish_reason': 'tool_calls', 'logprobs': None}, id='run--84b335b2-6ec4-4d60-9625-1388e892615b-0', tool_calls=[{'name': 'Weather', 'args': {'query': 'Hyderabad weather'}, 'id': '92467sp2j', 'type': 'tool_call'}], usage_metadata={'input_tokens': 268, 'output_tokens': 276, 'total_tokens': 544}),\n",
       "  ToolMessage(content='Error: TypeError(\"__init__() should return None, not \\'str\\'\")\\n Please fix your mistakes.', name='Weather', id='6bb2ef4d-3e57-467f-a43d-abd856dc2e30', tool_call_id='92467sp2j', status='error'),\n",
       "  AIMessage(content='', additional_kwargs={'tool_calls': [{'id': 'hqgvjc85a', 'function': {'arguments': '{\"query\":\"Hyderabad weather\"}', 'name': 'duckduckgo_search'}, 'type': 'function'}]}, response_metadata={'token_usage': {'completion_tokens': 154, 'prompt_tokens': 335, 'total_tokens': 489, 'completion_time': 0.649844689, 'prompt_time': 0.022369976, 'queue_time': 0.051873348, 'total_time': 0.672214665}, 'model_name': 'deepseek-r1-distill-llama-70b', 'system_fingerprint': 'fp_1bbe7845ec', 'finish_reason': 'tool_calls', 'logprobs': None}, id='run--51821275-5526-4cd4-be66-9ba6394ad342-0', tool_calls=[{'name': 'duckduckgo_search', 'args': {'query': 'Hyderabad weather'}, 'id': 'hqgvjc85a', 'type': 'tool_call'}], usage_metadata={'input_tokens': 335, 'output_tokens': 154, 'total_tokens': 489}),\n",
       "  ToolMessage(content=\"Get today's real-time weather updates in Hyderabad with hourly temperatures and a weekly forecast. Find out about Hyderabad's temperature trends, rain chances, air quality (AQI), and humidity ... Hyderabad Weather Forecasts. Weather Underground provides local & long-range weather forecasts, weatherreports, maps & tropical weather conditions for the Hyderabad area. Live weather reports from Hyderabad weather stations and weather warnings that include risk of thunder, high UV index and forecast gales. See the links below the 12-day Hyderabad weather forecast table for other cities and towns nearby along with weather conditions for local outdoor activities. Hyderabad Extended Forecast with high and low temperatures. °F. Last 2 weeks of weather Today, in Hyderabad, expect stormy weather in the afternoon with lightning and gusts. Minimal precipitation is forecasted. A temperature range of a humid 31°C to a temperate 24°C is anticipated. The maximum heat index, which modifies the air temperature to account for humidity, is assessed at a fiery hot 37°C.Note that heat index values are valued for light wind and location in the shade.\", name='duckduckgo_search', id='88141c57-4193-4d0c-9837-8273fa54df9b', tool_call_id='hqgvjc85a'),\n",
       "  AIMessage(content=\"Here’s the weather information and attractions in Hyderabad:\\n\\n**Weather in Hyderabad:**\\n- Today: Stormy weather in the afternoon with lightning and gusts.\\n- Minimal precipitation is forecasted.\\n- Temperature range: 31°C to 24°C (feeling much hotter due to humidity).\\n- Heat index: Up to 37°C (feels like temperature).\\n\\n**Attractions in Hyderabad:**\\n1. **Charminar** - Iconic landmark and historical mosque.\\n2. **Golconda Fort** - Ancient fort with rich history.\\n3. **Hussain Sagar Lake** - A large man-made lake with a Buddha statue.\\n4. **Qutub Shahi Tombs** - Historical tombs of the Qutub Shahi dynasty.\\n5. ** Necklace Road** - Scenic promenade with restaurants and views.\\n6. **Lad Bazaar** - Famous for bangles and traditional items.\\n7. **Ramoji Film City** - Largest film studio complex in the world.\\n8. **Salar Jung Museum** - One of the largest museums in India.\\n9. **Nehru Zoological Park** - Home to various wildlife species.\\n10. **Shilparamam** - Cultural village showcasing crafts and traditions.\\n\\nLet me know if you'd like more details about any of these!\", additional_kwargs={}, response_metadata={'token_usage': {'completion_tokens': 586, 'prompt_tokens': 603, 'total_tokens': 1189, 'completion_time': 2.494148358, 'prompt_time': 0.046318603, 'queue_time': 0.057345137000000004, 'total_time': 2.540466961}, 'model_name': 'deepseek-r1-distill-llama-70b', 'system_fingerprint': 'fp_1bbe7845ec', 'finish_reason': 'stop', 'logprobs': None}, id='run--2a3392be-93bb-4318-8e61-9deb17cc04f1-0', usage_metadata={'input_tokens': 603, 'output_tokens': 586, 'total_tokens': 1189})]}"
      ]
     },
     "execution_count": 87,
     "metadata": {},
     "output_type": "execute_result"
    }
   ],
   "source": [
    "message = [HumanMessage(content=\"TravelAgent, what is the waetehr in Hyderabad and Attractions in Hyderabad\")]\n",
    "response = react_graph.invoke({\"messages\": message})\n",
    "response"
   ]
  },
  {
   "cell_type": "code",
   "execution_count": 88,
   "id": "493756cf",
   "metadata": {},
   "outputs": [
    {
     "name": "stdout",
     "output_type": "stream",
     "text": [
      "================================\u001b[1m Human Message \u001b[0m=================================\n",
      "\n",
      "TravelAgent, what is the waetehr in Hyderabad and Attractions in Hyderabad\n",
      "==================================\u001b[1m Ai Message \u001b[0m==================================\n",
      "Tool Calls:\n",
      "  Weather (92467sp2j)\n",
      " Call ID: 92467sp2j\n",
      "  Args:\n",
      "    query: Hyderabad weather\n",
      "=================================\u001b[1m Tool Message \u001b[0m=================================\n",
      "Name: Weather\n",
      "\n",
      "Error: TypeError(\"__init__() should return None, not 'str'\")\n",
      " Please fix your mistakes.\n",
      "==================================\u001b[1m Ai Message \u001b[0m==================================\n",
      "Tool Calls:\n",
      "  duckduckgo_search (hqgvjc85a)\n",
      " Call ID: hqgvjc85a\n",
      "  Args:\n",
      "    query: Hyderabad weather\n",
      "=================================\u001b[1m Tool Message \u001b[0m=================================\n",
      "Name: duckduckgo_search\n",
      "\n",
      "Get today's real-time weather updates in Hyderabad with hourly temperatures and a weekly forecast. Find out about Hyderabad's temperature trends, rain chances, air quality (AQI), and humidity ... Hyderabad Weather Forecasts. Weather Underground provides local & long-range weather forecasts, weatherreports, maps & tropical weather conditions for the Hyderabad area. Live weather reports from Hyderabad weather stations and weather warnings that include risk of thunder, high UV index and forecast gales. See the links below the 12-day Hyderabad weather forecast table for other cities and towns nearby along with weather conditions for local outdoor activities. Hyderabad Extended Forecast with high and low temperatures. °F. Last 2 weeks of weather Today, in Hyderabad, expect stormy weather in the afternoon with lightning and gusts. Minimal precipitation is forecasted. A temperature range of a humid 31°C to a temperate 24°C is anticipated. The maximum heat index, which modifies the air temperature to account for humidity, is assessed at a fiery hot 37°C.Note that heat index values are valued for light wind and location in the shade.\n",
      "==================================\u001b[1m Ai Message \u001b[0m==================================\n",
      "\n",
      "Here’s the weather information and attractions in Hyderabad:\n",
      "\n",
      "**Weather in Hyderabad:**\n",
      "- Today: Stormy weather in the afternoon with lightning and gusts.\n",
      "- Minimal precipitation is forecasted.\n",
      "- Temperature range: 31°C to 24°C (feeling much hotter due to humidity).\n",
      "- Heat index: Up to 37°C (feels like temperature).\n",
      "\n",
      "**Attractions in Hyderabad:**\n",
      "1. **Charminar** - Iconic landmark and historical mosque.\n",
      "2. **Golconda Fort** - Ancient fort with rich history.\n",
      "3. **Hussain Sagar Lake** - A large man-made lake with a Buddha statue.\n",
      "4. **Qutub Shahi Tombs** - Historical tombs of the Qutub Shahi dynasty.\n",
      "5. ** Necklace Road** - Scenic promenade with restaurants and views.\n",
      "6. **Lad Bazaar** - Famous for bangles and traditional items.\n",
      "7. **Ramoji Film City** - Largest film studio complex in the world.\n",
      "8. **Salar Jung Museum** - One of the largest museums in India.\n",
      "9. **Nehru Zoological Park** - Home to various wildlife species.\n",
      "10. **Shilparamam** - Cultural village showcasing crafts and traditions.\n",
      "\n",
      "Let me know if you'd like more details about any of these!\n"
     ]
    }
   ],
   "source": [
    "##### Final Answer \n",
    "\n",
    "for m in response[\"messages\"]:\n",
    "    m.pretty_print()"
   ]
  }
 ],
 "metadata": {
  "kernelspec": {
   "display_name": "vagenticai",
   "language": "python",
   "name": "python3"
  },
  "language_info": {
   "codemirror_mode": {
    "name": "ipython",
    "version": 3
   },
   "file_extension": ".py",
   "mimetype": "text/x-python",
   "name": "python",
   "nbconvert_exporter": "python",
   "pygments_lexer": "ipython3",
   "version": "3.13.2"
  }
 },
 "nbformat": 4,
 "nbformat_minor": 5
}
