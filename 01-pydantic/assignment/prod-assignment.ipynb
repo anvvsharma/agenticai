{
 "cells": [
  {
   "cell_type": "markdown",
   "id": "c4b058be",
   "metadata": {},
   "source": [
    "#### Pydantic Basics: Creating and Using Models\n",
    "Pydantic models are the foundation of data validation in Python. They use Python type annotations to define the structure and validate data at runtime. Here's a detailed exploration of basic model creation with several examples.\n",
    "\n"
   ]
  },
  {
   "cell_type": "code",
   "execution_count": null,
   "id": "4b0e9d87",
   "metadata": {},
   "outputs": [],
   "source": [
    "# Imports\n",
    "# pip install BaseModel\n",
    "# pip install langchain_core\n"
   ]
  },
  {
   "cell_type": "code",
   "execution_count": null,
   "id": "29e3e8be",
   "metadata": {},
   "outputs": [],
   "source": [
    "\n",
    "pip install python-dotenv"
   ]
  },
  {
   "cell_type": "code",
   "execution_count": null,
   "id": "0d269075",
   "metadata": {},
   "outputs": [
    {
     "data": {
      "text/markdown": [
       "**Welcome to our Mobile Store**\n",
       "\n",
       "I'd be happy to help you with your query about the Samsung Galaxy S series. The Samsung Galaxy S Ultra is a popular high-end smartphone series known for its powerful performance, stunning display, and advanced camera features.\n",
       "\n",
       "**Available Models of Samsung Galaxy S Ultra:**\n",
       "\n",
       "Here are the available models of Samsung Galaxy S Ultra that we have in stock:\n",
       "\n",
       "```json\n",
       "{\n",
       "  \"products\": [\n",
       "    {\n",
       "      \"Product_Name\": \"Samsung Galaxy S22 Ultra\",\n",
       "      \"Model_Descripion\": \"12GB RAM, 128GB Storage, 5000mAh Battery, 108MP Primary Camera\",\n",
       "      \"Price_in_USD\": 899\n",
       "    },\n",
       "    {\n",
       "      \"Product_Name\": \"Samsung Galaxy S21 Ultra\",\n",
       "      \"Model_Descripion\": \"16GB RAM, 512GB Storage, 5000mAh Battery, 108MP Primary Camera\",\n",
       "      \"Price_in_USD\": 999\n",
       "    },\n",
       "    {\n",
       "      \"Product_Name\": \"Samsung Galaxy S20 Ultra\",\n",
       "      \"Model_Descripion\": \"12GB RAM, 128GB Storage, 5000mAh Battery, 108MP Primary Camera\",\n",
       "      \"Price_in_USD\": 849\n",
       "    },\n",
       "    {\n",
       "      \"Product_Name\": \"Samsung Galaxy S23 Ultra\",\n",
       "      \"Model_Descripion\": \"12GB RAM, 256GB Storage, 5000mAh Battery, 200MP Primary Camera\",\n",
       "      \"Price_in_USD\": 1099\n",
       "    },\n",
       "    {\n",
       "      \"Product_Name\": \"Samsung Galaxy S21 FE Ultra\",\n",
       "      \"Model_Descripion\": \"6GB RAM, 128GB Storage, 4500mAh Battery, 32MP Primary Camera\",\n",
       "      \"Price_in_USD\": 699\n",
       "    }\n",
       "  ]\n",
       "}\n",
       "```\n",
       "\n",
       "**Key Features of Samsung Galaxy S Ultra:**\n",
       "\n",
       "* Powerful processors with up to 16GB of RAM\n",
       "* Large storage capacities up to 512GB\n",
       "* Long-lasting batteries with up to 5000mAh capacity\n",
       "* Advanced camera systems with up to 200MP primary camera\n",
       "* Stunning displays with high refresh rates\n",
       "* Fast charging support\n",
       "* Water and dust resistant designs\n",
       "\n",
       "**Which model would you like to know more about?**"
      ],
      "text/plain": [
       "<IPython.core.display.Markdown object>"
      ]
     },
     "execution_count": 97,
     "metadata": {},
     "output_type": "execute_result"
    }
   ],
   "source": [
    "import os\n",
    "from pydantic import BaseModel, Field\n",
    "from typing import List\n",
    "from langchain_core.output_parsers import JsonOutputParser\n",
    "from langchain_core.prompts import PromptTemplate\n",
    "from dotenv import load_dotenv\n",
    "from groq import Groq\n",
    "from langchain_groq import ChatGroq\n",
    "from IPython.display import Markdown\n",
    "\n",
    "class Product(BaseModel):\n",
    "    Product_Name: str = Field(description = \"Product Name\")\n",
    "    Model_Descripion: str = Field(description = \"Product Description\")\n",
    "    Price_in_USD: int = Field(description = \"Product Description\")\n",
    "\n",
    "class ProductList(BaseModel):\n",
    "    products: List[Product]\n",
    "    \n",
    "load_dotenv()\n",
    "\n",
    "groq_api_key = os.getenv(\"GROQ_API_KEY\")\n",
    "\n",
    "if not groq_api_key:\n",
    "    raise ValueError(\"GROQ_API_KEY environment variable not set.\")\n",
    "\n",
    "# Initialize LangChain ChatGroq\n",
    "llm = ChatGroq(\n",
    "    api_key=groq_api_key,\n",
    "    model=\"llama-3.1-8b-instant\",\n",
    "    temperature=0.7\n",
    ")\n",
    "\n",
    "# parser = JsonOutputParser(pydantic_object=Products)\n",
    "parser = JsonOutputParser(pydantic_object=ProductList)\n",
    "format = parser.get_format_instructions()\n",
    "\n",
    "prompt_template = PromptTemplate(\n",
    "    template = \"\"\" You are an export Mobile Sales Agent, very weill versed in all latest variants of mobles. Please Answer customer query and \n",
    "    give detailed viewpoint about the product requested. \\n\n",
    "    List all the available models of the brand requested.\n",
    "    {format_instruction} \\n \n",
    "    {query} \\n \"\"\",\n",
    "    input_variables = [\"query\", \"format_instruction\"],\n",
    "    #partial_variables = {\"format_instruction:\", format},\n",
    ")\n",
    "\n",
    "chain = prompt_template | llm\n",
    "\n",
    "response = chain.invoke({\"format_instruction\": format, \"query\": \"Samsung Galaxy S** Ultra\"})\n",
    "#Markdown(response.content)\n",
    "print(response.content)\n"
   ]
  },
  {
   "cell_type": "code",
   "execution_count": 89,
   "id": "bd1fd353",
   "metadata": {},
   "outputs": [
    {
     "name": "stdout",
     "output_type": "stream",
     "text": [
      "Document 1:\n",
      "('content', 'As an export Mobile Sales Agent, I\\'d be happy to assist you with your query about iPhone models.\\n\\nHere are the available iPhone models, listed in JSON format as per the provided schema:\\n\\n```json\\n{\\n  \"Product_Name\": [\"iPhone 14\", \"iPhone 14 Plus\", \"iPhone 14 Pro\", \"iPhone 14 Pro Max\"],\\n  \"Model_Descripion\": [\\n    \"The iPhone 14 features a 6.1-inch Super Retina HD display, A15 Bionic chip, and a dual-camera setup.\",\\n    \"The iPhone 14 Plus features a 6.7-inch Super Retina HD display, A15 Bionic chip, and a dual-camera setup.\",\\n    \"The iPhone 14 Pro features a 6.1-inch Super Retina XDR display, A16 Bionic chip, and a triple-camera setup.\",\\n    \"The iPhone 14 Pro Max features a 6.7-inch Super Retina XDR display, A16 Bionic chip, and a triple-camera setup.\"\\n  ],\\n  \"Price_in_USD\": [799, 899, 999, 1099]\\n}\\n```\\n\\nHere\\'s a brief description of each iPhone model:\\n\\n1. **iPhone 14**: The iPhone 14 features a 6.1-inch Super Retina HD display, A15 Bionic chip, and a dual-camera setup. It starts at $799.\\n2. **iPhone 14 Plus**: The iPhone 14 Plus features a 6.7-inch Super Retina HD display, A15 Bionic chip, and a dual-camera setup. It starts at $899.\\n3. **iPhone 14 Pro**: The iPhone 14 Pro features a 6.1-inch Super Retina XDR display, A16 Bionic chip, and a triple-camera setup. It starts at $999.\\n4. **iPhone 14 Pro Max**: The iPhone 14 Pro Max features a 6.7-inch Super Retina XDR display, A16 Bionic chip, and a triple-camera setup. It starts at $1099.\\n\\nPlease note that prices may vary depending on your location and availability.')\n",
      "---------------\n",
      "Document 2:\n",
      "('additional_kwargs', {})\n",
      "---------------\n",
      "Document 3:\n",
      "('response_metadata', {'token_usage': {'completion_tokens': 438, 'prompt_tokens': 313, 'total_tokens': 751, 'completion_time': 0.711413332, 'prompt_time': 0.029159451, 'queue_time': 0.16417725, 'total_time': 0.740572783}, 'model_name': 'llama-3.1-8b-instant', 'system_fingerprint': 'fp_a4265e44d5', 'finish_reason': 'stop', 'logprobs': None})\n",
      "---------------\n",
      "Document 4:\n",
      "('type', 'ai')\n",
      "---------------\n",
      "Document 5:\n",
      "('name', None)\n",
      "---------------\n",
      "Document 6:\n",
      "('id', 'run--dba45728-410c-4cc2-a626-8724d20f51da-0')\n",
      "---------------\n",
      "Document 7:\n",
      "('example', False)\n",
      "---------------\n",
      "Document 8:\n",
      "('tool_calls', [])\n",
      "---------------\n",
      "Document 9:\n",
      "('invalid_tool_calls', [])\n",
      "---------------\n",
      "Document 10:\n",
      "('usage_metadata', {'input_tokens': 313, 'output_tokens': 438, 'total_tokens': 751})\n",
      "---------------\n"
     ]
    }
   ],
   "source": [
    "for idx, resp in enumerate(response):\n",
    " print(f\"Document {idx+1}:\")\n",
    " print(resp)\n",
    " print(\"---------------\")"
   ]
  }
 ],
 "metadata": {
  "kernelspec": {
   "display_name": "vagenticai",
   "language": "python",
   "name": "python3"
  },
  "language_info": {
   "codemirror_mode": {
    "name": "ipython",
    "version": 3
   },
   "file_extension": ".py",
   "mimetype": "text/x-python",
   "name": "python",
   "nbconvert_exporter": "python",
   "pygments_lexer": "ipython3",
   "version": "3.13.2"
  }
 },
 "nbformat": 4,
 "nbformat_minor": 5
}
